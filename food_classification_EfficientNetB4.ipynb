{
  "nbformat": 4,
  "nbformat_minor": 0,
  "metadata": {
    "colab": {
      "name": "food_classification_EfficientNetB4.ipynb",
      "provenance": [],
      "authorship_tag": "ABX9TyMJu+ORju0nnWosK2pa67q7"
    },
    "kernelspec": {
      "name": "python3",
      "display_name": "Python 3"
    },
    "language_info": {
      "name": "python"
    },
    "accelerator": "GPU",
    "gpuClass": "standard"
  },
  "cells": [
    {
      "cell_type": "markdown",
      "source": [
        "So this colab aims to create a EfficientNetB4 model for 10 class food dataset and compare with B0"
      ],
      "metadata": {
        "id": "kRyRv9b4b-hV"
      }
    },
    {
      "cell_type": "markdown",
      "source": [
        "The data i get is Daniel Bourke's food data which is divided in to 3 datasets 1 percent, 10 percent and all."
      ],
      "metadata": {
        "id": "SdrsPajzcFY5"
      }
    },
    {
      "cell_type": "code",
      "source": [
        "!wget https://raw.githubusercontent.com/mrdbourke/tensorflow-deep-learning/main/extras/helper_functions.py"
      ],
      "metadata": {
        "colab": {
          "base_uri": "https://localhost:8080/"
        },
        "id": "hKM8j3bndNfI",
        "outputId": "0eb3219e-e594-4b90-dcc1-a56a9dd955de"
      },
      "execution_count": 2,
      "outputs": [
        {
          "output_type": "stream",
          "name": "stdout",
          "text": [
            "--2022-08-31 10:56:34--  https://raw.githubusercontent.com/mrdbourke/tensorflow-deep-learning/main/extras/helper_functions.py\n",
            "Resolving raw.githubusercontent.com (raw.githubusercontent.com)... 185.199.108.133, 185.199.109.133, 185.199.110.133, ...\n",
            "Connecting to raw.githubusercontent.com (raw.githubusercontent.com)|185.199.108.133|:443... connected.\n",
            "HTTP request sent, awaiting response... 200 OK\n",
            "Length: 10246 (10K) [text/plain]\n",
            "Saving to: ‘helper_functions.py’\n",
            "\n",
            "helper_functions.py 100%[===================>]  10.01K  --.-KB/s    in 0s      \n",
            "\n",
            "2022-08-31 10:56:34 (73.1 MB/s) - ‘helper_functions.py’ saved [10246/10246]\n",
            "\n"
          ]
        }
      ]
    },
    {
      "cell_type": "code",
      "source": [
        "#importing dependencies\n",
        "import tensorflow as tf\n",
        "from helper_functions import create_tensorboard_callback, plot_loss_curves, unzip_data, walk_through_dir"
      ],
      "metadata": {
        "id": "n9znN8xzcX7V"
      },
      "execution_count": 3,
      "outputs": []
    },
    {
      "cell_type": "markdown",
      "source": [
        "# Getting Data ready"
      ],
      "metadata": {
        "id": "vQEPEu5mdzIj"
      }
    },
    {
      "cell_type": "code",
      "source": [
        "!wget https://storage.googleapis.com/ztm_tf_course/food_vision/10_food_classes_10_percent.zip"
      ],
      "metadata": {
        "colab": {
          "base_uri": "https://localhost:8080/"
        },
        "id": "kYYNWrMjd1tQ",
        "outputId": "29966dc1-f49d-4d2e-e7dc-e990630164ee"
      },
      "execution_count": 4,
      "outputs": [
        {
          "output_type": "stream",
          "name": "stdout",
          "text": [
            "--2022-08-31 10:56:39--  https://storage.googleapis.com/ztm_tf_course/food_vision/10_food_classes_10_percent.zip\n",
            "Resolving storage.googleapis.com (storage.googleapis.com)... 74.125.200.128, 74.125.130.128, 74.125.68.128, ...\n",
            "Connecting to storage.googleapis.com (storage.googleapis.com)|74.125.200.128|:443... connected.\n",
            "HTTP request sent, awaiting response... 200 OK\n",
            "Length: 168546183 (161M) [application/zip]\n",
            "Saving to: ‘10_food_classes_10_percent.zip’\n",
            "\n",
            "10_food_classes_10_ 100%[===================>] 160.74M   275MB/s    in 0.6s    \n",
            "\n",
            "2022-08-31 10:56:40 (275 MB/s) - ‘10_food_classes_10_percent.zip’ saved [168546183/168546183]\n",
            "\n"
          ]
        }
      ]
    },
    {
      "cell_type": "code",
      "source": [
        "unzip_data(\"10_food_classes_10_percent.zip\")"
      ],
      "metadata": {
        "id": "AAGeXWqpd6MY"
      },
      "execution_count": 5,
      "outputs": []
    },
    {
      "cell_type": "code",
      "source": [
        "walk_through_dir(\"10_food_classes_10_percent/\")"
      ],
      "metadata": {
        "colab": {
          "base_uri": "https://localhost:8080/"
        },
        "id": "h0b9cLKzeAuT",
        "outputId": "6b99ca0f-4835-4164-8534-4b082e565f3a"
      },
      "execution_count": 6,
      "outputs": [
        {
          "output_type": "stream",
          "name": "stdout",
          "text": [
            "There are 2 directories and 0 images in '10_food_classes_10_percent/'.\n",
            "There are 10 directories and 0 images in '10_food_classes_10_percent/train'.\n",
            "There are 0 directories and 75 images in '10_food_classes_10_percent/train/hamburger'.\n",
            "There are 0 directories and 75 images in '10_food_classes_10_percent/train/ice_cream'.\n",
            "There are 0 directories and 75 images in '10_food_classes_10_percent/train/chicken_wings'.\n",
            "There are 0 directories and 75 images in '10_food_classes_10_percent/train/pizza'.\n",
            "There are 0 directories and 75 images in '10_food_classes_10_percent/train/fried_rice'.\n",
            "There are 0 directories and 75 images in '10_food_classes_10_percent/train/grilled_salmon'.\n",
            "There are 0 directories and 75 images in '10_food_classes_10_percent/train/steak'.\n",
            "There are 0 directories and 75 images in '10_food_classes_10_percent/train/ramen'.\n",
            "There are 0 directories and 75 images in '10_food_classes_10_percent/train/chicken_curry'.\n",
            "There are 0 directories and 75 images in '10_food_classes_10_percent/train/sushi'.\n",
            "There are 10 directories and 0 images in '10_food_classes_10_percent/test'.\n",
            "There are 0 directories and 250 images in '10_food_classes_10_percent/test/hamburger'.\n",
            "There are 0 directories and 250 images in '10_food_classes_10_percent/test/ice_cream'.\n",
            "There are 0 directories and 250 images in '10_food_classes_10_percent/test/chicken_wings'.\n",
            "There are 0 directories and 250 images in '10_food_classes_10_percent/test/pizza'.\n",
            "There are 0 directories and 250 images in '10_food_classes_10_percent/test/fried_rice'.\n",
            "There are 0 directories and 250 images in '10_food_classes_10_percent/test/grilled_salmon'.\n",
            "There are 0 directories and 250 images in '10_food_classes_10_percent/test/steak'.\n",
            "There are 0 directories and 250 images in '10_food_classes_10_percent/test/ramen'.\n",
            "There are 0 directories and 250 images in '10_food_classes_10_percent/test/chicken_curry'.\n",
            "There are 0 directories and 250 images in '10_food_classes_10_percent/test/sushi'.\n"
          ]
        }
      ]
    },
    {
      "cell_type": "code",
      "source": [
        "# 75 images for training 250 images for testing\n",
        "\n",
        "train_dir_10 = \"10_food_classes_10_percent/train/\"\n",
        "test_dir_10 = \"10_food_classes_10_percent/test/\""
      ],
      "metadata": {
        "id": "yaSgTXTneEqe"
      },
      "execution_count": 7,
      "outputs": []
    },
    {
      "cell_type": "code",
      "source": [
        "IMG_SIZE = (224, 224)\n",
        "input_shape = (224, 224, 3)\n",
        "train_data_10 = tf.keras.utils.image_dataset_from_directory(train_dir_10,\n",
        "                                                            label_mode=\"categorical\",\n",
        "                                                            image_size=IMG_SIZE)\n",
        "\n",
        "test_data = tf. keras.utils.image_dataset_from_directory(test_dir_10,\n",
        "                                                         label_mode=\"categorical\",\n",
        "                                                         image_size=IMG_SIZE) # test_data will be always same so i am just attending it once "
      ],
      "metadata": {
        "colab": {
          "base_uri": "https://localhost:8080/"
        },
        "id": "ZTgdiNHVeSj7",
        "outputId": "92dc2c3c-1538-4c46-a908-2c5532b3d913"
      },
      "execution_count": 8,
      "outputs": [
        {
          "output_type": "stream",
          "name": "stdout",
          "text": [
            "Found 750 files belonging to 10 classes.\n",
            "Found 2500 files belonging to 10 classes.\n"
          ]
        }
      ]
    },
    {
      "cell_type": "code",
      "source": [
        "train_data_10.class_names"
      ],
      "metadata": {
        "colab": {
          "base_uri": "https://localhost:8080/"
        },
        "id": "StODZ1cMezeG",
        "outputId": "5594a296-00fb-48cb-e65b-c10816431f70"
      },
      "execution_count": 9,
      "outputs": [
        {
          "output_type": "execute_result",
          "data": {
            "text/plain": [
              "['chicken_curry',\n",
              " 'chicken_wings',\n",
              " 'fried_rice',\n",
              " 'grilled_salmon',\n",
              " 'hamburger',\n",
              " 'ice_cream',\n",
              " 'pizza',\n",
              " 'ramen',\n",
              " 'steak',\n",
              " 'sushi']"
            ]
          },
          "metadata": {},
          "execution_count": 9
        }
      ]
    },
    {
      "cell_type": "markdown",
      "source": [
        "# Building models"
      ],
      "metadata": {
        "id": "vDyeMMuke1_y"
      }
    },
    {
      "cell_type": "markdown",
      "source": [
        "##### We got data ready now its time to build model i am going to build 4 different models\n",
        "- model_1 is going to be our base model every tuning will be on this one.\n",
        "- model_2 is going to be only fitted by augmented data.\n",
        "- model_3 is going to be augmented data + tuning some layers on model_1 (which is not trainable on model_1)\n",
        "- model_4 is going to be using all data + model_3 tunings"
      ],
      "metadata": {
        "id": "q-zGd-r5fAJB"
      }
    },
    {
      "cell_type": "code",
      "source": [
        "model = tf.keras.applications.EfficientNetB4(include_top=False)\n",
        "model.trainable = False # freezing all the layers in model so that we can use them directly\n",
        "\n",
        "inputs = tf.keras.layers.Input(shape=input_shape) # this is our input layer\n",
        "x = model(inputs) # inputs passed to the model\n",
        "\n",
        "# its time pool before outputting\n",
        "\n",
        "x = tf.keras.layers.GlobalAveragePooling2D()(x) # tf.reduce_mean(inputs, axis=[1, 2])\n",
        "\n",
        "outputs = tf.keras.layers.Dense(10, activation=\"softmax\")(x) # after pooled get outputs to dense layer"
      ],
      "metadata": {
        "colab": {
          "base_uri": "https://localhost:8080/"
        },
        "id": "YVXW9RWnfd0w",
        "outputId": "c849f3d5-192d-4984-8380-4b8c8eb45fd6"
      },
      "execution_count": 10,
      "outputs": [
        {
          "output_type": "stream",
          "name": "stdout",
          "text": [
            "Downloading data from https://storage.googleapis.com/keras-applications/efficientnetb4_notop.h5\n",
            "71688192/71686520 [==============================] - 2s 0us/step\n",
            "71696384/71686520 [==============================] - 2s 0us/step\n"
          ]
        }
      ]
    },
    {
      "cell_type": "code",
      "source": [
        "model_1 = tf.keras.Model(inputs, outputs)\n",
        "\n",
        "model_1.compile(loss=\"categorical_crossentropy\",\n",
        "                optimizer=tf.keras.optimizers.Adam(),\n",
        "                metrics=[\"accuracy\"])"
      ],
      "metadata": {
        "id": "IY3QnmIPguY3"
      },
      "execution_count": 11,
      "outputs": []
    },
    {
      "cell_type": "code",
      "source": [
        "model_1.summary()"
      ],
      "metadata": {
        "colab": {
          "base_uri": "https://localhost:8080/"
        },
        "id": "JtyDlifxg63V",
        "outputId": "844a3265-8d78-4207-e93d-d4345e30fb24"
      },
      "execution_count": 12,
      "outputs": [
        {
          "output_type": "stream",
          "name": "stdout",
          "text": [
            "Model: \"model\"\n",
            "_________________________________________________________________\n",
            " Layer (type)                Output Shape              Param #   \n",
            "=================================================================\n",
            " input_2 (InputLayer)        [(None, 224, 224, 3)]     0         \n",
            "                                                                 \n",
            " efficientnetb4 (Functional)  (None, None, None, 1792)  17673823 \n",
            "                                                                 \n",
            " global_average_pooling2d (G  (None, 1792)             0         \n",
            " lobalAveragePooling2D)                                          \n",
            "                                                                 \n",
            " dense (Dense)               (None, 10)                17930     \n",
            "                                                                 \n",
            "=================================================================\n",
            "Total params: 17,691,753\n",
            "Trainable params: 17,930\n",
            "Non-trainable params: 17,673,823\n",
            "_________________________________________________________________\n"
          ]
        }
      ]
    },
    {
      "cell_type": "markdown",
      "source": [
        "Before the fit i should create a checkpoint callback in order to call it while fitting"
      ],
      "metadata": {
        "id": "VOFd_Rz5he8p"
      }
    },
    {
      "cell_type": "code",
      "source": [
        "cp_path = \"efficient_net_fit_weights/checkpoint\"\n",
        "cp_cb = tf.keras.callbacks.ModelCheckpoint(filepath=cp_path,\n",
        "                                           save_weights_only=True,\n",
        "                                           save_freq=\"epoch\",\n",
        "                                           verbose=1)"
      ],
      "metadata": {
        "id": "OTFO2oX9hkCv"
      },
      "execution_count": 64,
      "outputs": []
    },
    {
      "cell_type": "code",
      "source": [
        "history_1 = model_1.fit(train_data_10,\n",
        "                        validation_data=test_data,\n",
        "                        steps_per_epoch=len(train_data_10),\n",
        "                        validation_steps=int(0.25*(len(test_data))),\n",
        "                        epochs=5) # just using 25% of test_data"
      ],
      "metadata": {
        "colab": {
          "base_uri": "https://localhost:8080/"
        },
        "id": "GIlv99BchSbJ",
        "outputId": "23426ddb-5e89-4eb9-dd5d-637355a27fbe"
      },
      "execution_count": 14,
      "outputs": [
        {
          "output_type": "stream",
          "name": "stdout",
          "text": [
            "Epoch 1/5\n",
            "24/24 [==============================] - 34s 461ms/step - loss: 1.7847 - accuracy: 0.4933 - val_loss: 1.1426 - val_accuracy: 0.7418\n",
            "Epoch 2/5\n",
            "24/24 [==============================] - 8s 311ms/step - loss: 1.0182 - accuracy: 0.7480 - val_loss: 0.7952 - val_accuracy: 0.8076\n",
            "Epoch 3/5\n",
            "24/24 [==============================] - 8s 312ms/step - loss: 0.7618 - accuracy: 0.8187 - val_loss: 0.6736 - val_accuracy: 0.8240\n",
            "Epoch 4/5\n",
            "24/24 [==============================] - 8s 314ms/step - loss: 0.6300 - accuracy: 0.8413 - val_loss: 0.6242 - val_accuracy: 0.8322\n",
            "Epoch 5/5\n",
            "24/24 [==============================] - 8s 313ms/step - loss: 0.5529 - accuracy: 0.8587 - val_loss: 0.5838 - val_accuracy: 0.8339\n"
          ]
        }
      ]
    },
    {
      "cell_type": "markdown",
      "source": [
        "Even though we used 10% of data + didn't make any differences tuning or etc. still we got 80 percent on test data."
      ],
      "metadata": {
        "id": "PjDyplB_ik6x"
      }
    },
    {
      "cell_type": "code",
      "source": [
        "plot_loss_curves(history_1)"
      ],
      "metadata": {
        "colab": {
          "base_uri": "https://localhost:8080/",
          "height": 573
        },
        "id": "oliX5CpYjg7_",
        "outputId": "8ea718ee-9593-4b02-842f-6f1b797ecabf"
      },
      "execution_count": 15,
      "outputs": [
        {
          "output_type": "display_data",
          "data": {
            "text/plain": [
              "<Figure size 432x288 with 1 Axes>"
            ],
            "image/png": "[encoded data removed]"
          },
          "metadata": {
            "needs_background": "light"
          }
        },
        {
          "output_type": "display_data",
          "data": {
            "text/plain": [
              "<Figure size 432x288 with 1 Axes>"
            ],
            "image/png": "[encoded data removed]"
          },
          "metadata": {
            "needs_background": "light"
          }
        }
      ]
    },
    {
      "cell_type": "markdown",
      "source": [
        "Also graphs look cool so its time to play with data"
      ],
      "metadata": {
        "id": "Suu-NmXgj62t"
      }
    },
    {
      "cell_type": "markdown",
      "source": [
        " # Building Data Augmentation Layer"
      ],
      "metadata": {
        "id": "TCeHgGbNkUHG"
      }
    },
    {
      "cell_type": "code",
      "source": [
        "augmentation_layer = tf.keras.Sequential([\n",
        "    tf.keras.layers.RandomFlip(\"horizontal\"),\n",
        "    tf.keras.layers.RandomZoom(0.3),\n",
        "    tf.keras.layers.RandomHeight(0.3),\n",
        "    tf.keras.layers.RandomWidth(0.3),\n",
        "    tf.keras.layers.RandomRotation(0.3),\n",
        "    #tf.keras.layers.Rescaling(scale=1/255.) EfficientNetB4 also uses rescaling inside of it so we dont need to use this\n",
        "])"
      ],
      "metadata": {
        "id": "RgpXCEPokETp"
      },
      "execution_count": 66,
      "outputs": []
    },
    {
      "cell_type": "code",
      "source": [
        "import matplotlib.pyplot as plt\n",
        "import matplotlib.image as imp\n",
        "import os\n",
        "import random"
      ],
      "metadata": {
        "id": "E4-DazRyl4pv"
      },
      "execution_count": 40,
      "outputs": []
    },
    {
      "cell_type": "code",
      "source": [
        "from tensorflow.python import training\n",
        "# lets see how augmented image looks like\n",
        "\n",
        "def show_augmented_image():\n",
        "  target_classes = random.choice(train_data_10.class_names)\n",
        "  target_dir = train_dir_10 + target_classes\n",
        "  random_image = random.choice(os.listdir(target_dir))\n",
        "  random_path = target_dir + \"/\" + random_image\n",
        "  img = imp.imread(random_path)\n",
        "  plt.imshow(img)\n",
        "  plt.axis(False)\n",
        "  augmented_image = augmentation_layer(img, training=True)\n",
        "  plt.figure()\n",
        "  plt.axis(False)\n",
        "  plt.imshow(augmented_image/255.)"
      ],
      "metadata": {
        "id": "V5u4rdPVk69E"
      },
      "execution_count": 60,
      "outputs": []
    },
    {
      "cell_type": "code",
      "source": [
        "show_augmented_image()"
      ],
      "metadata": {
        "colab": {
          "base_uri": "https://localhost:8080/",
          "height": 479
        },
        "id": "F7djDx87lrxH",
        "outputId": "291c32c3-7269-442e-b9b9-8f52b635e3f2"
      },
      "execution_count": 62,
      "outputs": [
        {
          "output_type": "display_data",
          "data": {
            "text/plain": [
              "<Figure size 432x288 with 1 Axes>"
            ],
            "image/png": "[encoded data removed]"
          },
          "metadata": {
            "needs_background": "light"
          }
        },
        {
          "output_type": "display_data",
          "data": {
            "text/plain": [
              "<Figure size 432x288 with 1 Axes>"
            ],
            "image/png": "[encoded data removed]"
          },
          "metadata": {
            "needs_background": "light"
          }
        }
      ]
    },
    {
      "cell_type": "markdown",
      "source": [
        "### Building model with augmentated data"
      ],
      "metadata": {
        "id": "DMfLdCf_luGV"
      }
    },
    {
      "cell_type": "code",
      "source": [
        "model_0 = tf.keras.applications.EfficientNetB4(include_top=False)\n",
        "model_0.trainable = False\n",
        "inputs = tf.keras.layers.Input(shape=input_shape)\n",
        "x = augmentation_layer(inputs)\n",
        "x = model_0(x)\n",
        "x = tf.keras.layers.GlobalAveragePooling2D()(x)\n",
        "\n",
        "outputs = tf.keras.layers.Dense(10, activation=\"softmax\")(x)\n",
        "\n",
        "model_2 = tf.keras.Model(inputs, outputs)\n",
        "\n",
        "model_2.compile(loss=\"categorical_crossentropy\",\n",
        "                optimizer=tf.keras.optimizers.Adam(),\n",
        "                metrics=[\"accuracy\"])\n",
        "\n",
        "history_2 = model_2.fit(train_data_10,\n",
        "                        epochs=5,\n",
        "                        steps_per_epoch=len(train_data_10),\n",
        "                        validation_data=test_data,\n",
        "                        validation_steps=int(0.25*len(test_data)),\n",
        "                        callbacks=[cp_cb])"
      ],
      "metadata": {
        "colab": {
          "base_uri": "https://localhost:8080/"
        },
        "id": "BR2YycsjpA9b",
        "outputId": "b63304f0-9128-446e-a788-20c234c22c96"
      },
      "execution_count": 67,
      "outputs": [
        {
          "output_type": "stream",
          "name": "stdout",
          "text": [
            "Epoch 1/5\n",
            "24/24 [==============================] - ETA: 0s - loss: 1.9925 - accuracy: 0.3213\n",
            "Epoch 1: saving model to efficient_net_fit_weights/checkpoint\n",
            "24/24 [==============================] - 31s 814ms/step - loss: 1.9925 - accuracy: 0.3213 - val_loss: 1.4381 - val_accuracy: 0.6727\n",
            "Epoch 2/5\n",
            "24/24 [==============================] - ETA: 0s - loss: 1.4374 - accuracy: 0.6107\n",
            "Epoch 2: saving model to efficient_net_fit_weights/checkpoint\n",
            "24/24 [==============================] - 21s 865ms/step - loss: 1.4374 - accuracy: 0.6107 - val_loss: 1.0516 - val_accuracy: 0.7467\n",
            "Epoch 3/5\n",
            "24/24 [==============================] - ETA: 0s - loss: 1.2046 - accuracy: 0.6627\n",
            "Epoch 3: saving model to efficient_net_fit_weights/checkpoint\n",
            "24/24 [==============================] - 16s 649ms/step - loss: 1.2046 - accuracy: 0.6627 - val_loss: 0.8503 - val_accuracy: 0.7928\n",
            "Epoch 4/5\n",
            "24/24 [==============================] - ETA: 0s - loss: 1.0679 - accuracy: 0.6933\n",
            "Epoch 4: saving model to efficient_net_fit_weights/checkpoint\n",
            "24/24 [==============================] - 17s 691ms/step - loss: 1.0679 - accuracy: 0.6933 - val_loss: 0.7874 - val_accuracy: 0.7862\n",
            "Epoch 5/5\n",
            "24/24 [==============================] - ETA: 0s - loss: 0.9671 - accuracy: 0.7160\n",
            "Epoch 5: saving model to efficient_net_fit_weights/checkpoint\n",
            "24/24 [==============================] - 17s 683ms/step - loss: 0.9671 - accuracy: 0.7160 - val_loss: 0.7166 - val_accuracy: 0.7977\n"
          ]
        }
      ]
    },
    {
      "cell_type": "markdown",
      "source": [
        "### I faced with some problems about vertical flipping so i think from now on i am going to change that flip to horizontal\n",
        "-- Extra note: after changing flipping to horizontal after fitting val accuracy didn't change."
      ],
      "metadata": {
        "id": "1ztaNFQ3qaJm"
      }
    },
    {
      "cell_type": "code",
      "source": [
        "plot_loss_curves(history_2)"
      ],
      "metadata": {
        "colab": {
          "base_uri": "https://localhost:8080/",
          "height": 573
        },
        "id": "9Z7uXcTQrGS2",
        "outputId": "2fb3122f-fe93-4fb8-ac8b-6440bbd415bd"
      },
      "execution_count": 68,
      "outputs": [
        {
          "output_type": "display_data",
          "data": {
            "text/plain": [
              "<Figure size 432x288 with 1 Axes>"
            ],
            "image/png": "[encoded data removed]"
          },
          "metadata": {
            "needs_background": "light"
          }
        },
        {
          "output_type": "display_data",
          "data": {
            "text/plain": [
              "<Figure size 432x288 with 1 Axes>"
            ],
            "image/png": "[encoded data removed]"
          },
          "metadata": {
            "needs_background": "light"
          }
        }
      ]
    },
    {
      "cell_type": "markdown",
      "source": [
        "### Creating model_3 hardest part begins!!!!\n",
        "in this model i am going to divide some parts of pretrained imagenet layers in order to train myself.\n",
        "i hope this is going to work\n",
        "the other parameters will be same. model_2 will be baseline model after here. In order to use model_2 frequently i am going to use checkpoints to call it."
      ],
      "metadata": {
        "id": "qaeaUyE6sMRa"
      }
    },
    {
      "cell_type": "code",
      "source": [
        "for layer in model_2.layers:\n",
        "  print(layer.name, layer.trainable)"
      ],
      "metadata": {
        "colab": {
          "base_uri": "https://localhost:8080/"
        },
        "id": "bTJWLdOFslmp",
        "outputId": "40660d64-61db-401e-f5a8-02d67df9e8b8"
      },
      "execution_count": 69,
      "outputs": [
        {
          "output_type": "stream",
          "name": "stdout",
          "text": [
            "input_6 True\n",
            "sequential_3 True\n",
            "efficientnetb4 False\n",
            "global_average_pooling2d_2 True\n",
            "dense_2 True\n"
          ]
        }
      ]
    },
    {
      "cell_type": "markdown",
      "source": [
        "#### Upthere there are some trainable layers which is not frozen layers that i created also there is a layer of efficientnetb4 which called frozen. lets heat it!!\n"
      ],
      "metadata": {
        "id": "qaak5FUIs4SL"
      }
    },
    {
      "cell_type": "code",
      "source": [
        "for layer in model_2.layers[2].layers:\n",
        "  print(layer.name, layer.trainable)"
      ],
      "metadata": {
        "colab": {
          "base_uri": "https://localhost:8080/"
        },
        "id": "7m3sPTm4tJD3",
        "outputId": "9f6741e5-1942-4b8b-e30c-a333a0adeba6"
      },
      "execution_count": 90,
      "outputs": [
        {
          "output_type": "stream",
          "name": "stdout",
          "text": [
            "input_5 False\n",
            "rescaling_3 False\n",
            "normalization_2 False\n",
            "stem_conv_pad False\n",
            "stem_conv False\n",
            "stem_bn False\n",
            "stem_activation False\n",
            "block1a_dwconv False\n",
            "block1a_bn False\n",
            "block1a_activation False\n",
            "block1a_se_squeeze False\n",
            "block1a_se_reshape False\n",
            "block1a_se_reduce False\n",
            "block1a_se_expand False\n",
            "block1a_se_excite False\n",
            "block1a_project_conv False\n",
            "block1a_project_bn False\n",
            "block1b_dwconv False\n",
            "block1b_bn False\n",
            "block1b_activation False\n",
            "block1b_se_squeeze False\n",
            "block1b_se_reshape False\n",
            "block1b_se_reduce False\n",
            "block1b_se_expand False\n",
            "block1b_se_excite False\n",
            "block1b_project_conv False\n",
            "block1b_project_bn False\n",
            "block1b_drop False\n",
            "block1b_add False\n",
            "block2a_expand_conv False\n",
            "block2a_expand_bn False\n",
            "block2a_expand_activation False\n",
            "block2a_dwconv_pad False\n",
            "block2a_dwconv False\n",
            "block2a_bn False\n",
            "block2a_activation False\n",
            "block2a_se_squeeze False\n",
            "block2a_se_reshape False\n",
            "block2a_se_reduce False\n",
            "block2a_se_expand False\n",
            "block2a_se_excite False\n",
            "block2a_project_conv False\n",
            "block2a_project_bn False\n",
            "block2b_expand_conv False\n",
            "block2b_expand_bn False\n",
            "block2b_expand_activation False\n",
            "block2b_dwconv False\n",
            "block2b_bn False\n",
            "block2b_activation False\n",
            "block2b_se_squeeze False\n",
            "block2b_se_reshape False\n",
            "block2b_se_reduce False\n",
            "block2b_se_expand False\n",
            "block2b_se_excite False\n",
            "block2b_project_conv False\n",
            "block2b_project_bn False\n",
            "block2b_drop False\n",
            "block2b_add False\n",
            "block2c_expand_conv False\n",
            "block2c_expand_bn False\n",
            "block2c_expand_activation False\n",
            "block2c_dwconv False\n",
            "block2c_bn False\n",
            "block2c_activation False\n",
            "block2c_se_squeeze False\n",
            "block2c_se_reshape False\n",
            "block2c_se_reduce False\n",
            "block2c_se_expand False\n",
            "block2c_se_excite False\n",
            "block2c_project_conv False\n",
            "block2c_project_bn False\n",
            "block2c_drop False\n",
            "block2c_add False\n",
            "block2d_expand_conv False\n",
            "block2d_expand_bn False\n",
            "block2d_expand_activation False\n",
            "block2d_dwconv False\n",
            "block2d_bn False\n",
            "block2d_activation False\n",
            "block2d_se_squeeze False\n",
            "block2d_se_reshape False\n",
            "block2d_se_reduce False\n",
            "block2d_se_expand False\n",
            "block2d_se_excite False\n",
            "block2d_project_conv False\n",
            "block2d_project_bn False\n",
            "block2d_drop False\n",
            "block2d_add False\n",
            "block3a_expand_conv False\n",
            "block3a_expand_bn False\n",
            "block3a_expand_activation False\n",
            "block3a_dwconv_pad False\n",
            "block3a_dwconv False\n",
            "block3a_bn False\n",
            "block3a_activation False\n",
            "block3a_se_squeeze False\n",
            "block3a_se_reshape False\n",
            "block3a_se_reduce False\n",
            "block3a_se_expand False\n",
            "block3a_se_excite False\n",
            "block3a_project_conv False\n",
            "block3a_project_bn False\n",
            "block3b_expand_conv False\n",
            "block3b_expand_bn False\n",
            "block3b_expand_activation False\n",
            "block3b_dwconv False\n",
            "block3b_bn False\n",
            "block3b_activation False\n",
            "block3b_se_squeeze False\n",
            "block3b_se_reshape False\n",
            "block3b_se_reduce False\n",
            "block3b_se_expand False\n",
            "block3b_se_excite False\n",
            "block3b_project_conv False\n",
            "block3b_project_bn False\n",
            "block3b_drop False\n",
            "block3b_add False\n",
            "block3c_expand_conv False\n",
            "block3c_expand_bn False\n",
            "block3c_expand_activation False\n",
            "block3c_dwconv False\n",
            "block3c_bn False\n",
            "block3c_activation False\n",
            "block3c_se_squeeze False\n",
            "block3c_se_reshape False\n",
            "block3c_se_reduce False\n",
            "block3c_se_expand False\n",
            "block3c_se_excite False\n",
            "block3c_project_conv False\n",
            "block3c_project_bn False\n",
            "block3c_drop False\n",
            "block3c_add False\n",
            "block3d_expand_conv False\n",
            "block3d_expand_bn False\n",
            "block3d_expand_activation False\n",
            "block3d_dwconv False\n",
            "block3d_bn False\n",
            "block3d_activation False\n",
            "block3d_se_squeeze False\n",
            "block3d_se_reshape False\n",
            "block3d_se_reduce False\n",
            "block3d_se_expand False\n",
            "block3d_se_excite False\n",
            "block3d_project_conv False\n",
            "block3d_project_bn False\n",
            "block3d_drop False\n",
            "block3d_add False\n",
            "block4a_expand_conv False\n",
            "block4a_expand_bn False\n",
            "block4a_expand_activation False\n",
            "block4a_dwconv_pad False\n",
            "block4a_dwconv False\n",
            "block4a_bn False\n",
            "block4a_activation False\n",
            "block4a_se_squeeze False\n",
            "block4a_se_reshape False\n",
            "block4a_se_reduce False\n",
            "block4a_se_expand False\n",
            "block4a_se_excite False\n",
            "block4a_project_conv False\n",
            "block4a_project_bn False\n",
            "block4b_expand_conv False\n",
            "block4b_expand_bn False\n",
            "block4b_expand_activation False\n",
            "block4b_dwconv False\n",
            "block4b_bn False\n",
            "block4b_activation False\n",
            "block4b_se_squeeze False\n",
            "block4b_se_reshape False\n",
            "block4b_se_reduce False\n",
            "block4b_se_expand False\n",
            "block4b_se_excite False\n",
            "block4b_project_conv False\n",
            "block4b_project_bn False\n",
            "block4b_drop False\n",
            "block4b_add False\n",
            "block4c_expand_conv False\n",
            "block4c_expand_bn False\n",
            "block4c_expand_activation False\n",
            "block4c_dwconv False\n",
            "block4c_bn False\n",
            "block4c_activation False\n",
            "block4c_se_squeeze False\n",
            "block4c_se_reshape False\n",
            "block4c_se_reduce False\n",
            "block4c_se_expand False\n",
            "block4c_se_excite False\n",
            "block4c_project_conv False\n",
            "block4c_project_bn False\n",
            "block4c_drop False\n",
            "block4c_add False\n",
            "block4d_expand_conv False\n",
            "block4d_expand_bn False\n",
            "block4d_expand_activation False\n",
            "block4d_dwconv False\n",
            "block4d_bn False\n",
            "block4d_activation False\n",
            "block4d_se_squeeze False\n",
            "block4d_se_reshape False\n",
            "block4d_se_reduce False\n",
            "block4d_se_expand False\n",
            "block4d_se_excite False\n",
            "block4d_project_conv False\n",
            "block4d_project_bn False\n",
            "block4d_drop False\n",
            "block4d_add False\n",
            "block4e_expand_conv False\n",
            "block4e_expand_bn False\n",
            "block4e_expand_activation False\n",
            "block4e_dwconv False\n",
            "block4e_bn False\n",
            "block4e_activation False\n",
            "block4e_se_squeeze False\n",
            "block4e_se_reshape False\n",
            "block4e_se_reduce False\n",
            "block4e_se_expand False\n",
            "block4e_se_excite False\n",
            "block4e_project_conv False\n",
            "block4e_project_bn False\n",
            "block4e_drop False\n",
            "block4e_add False\n",
            "block4f_expand_conv False\n",
            "block4f_expand_bn False\n",
            "block4f_expand_activation False\n",
            "block4f_dwconv False\n",
            "block4f_bn False\n",
            "block4f_activation False\n",
            "block4f_se_squeeze False\n",
            "block4f_se_reshape False\n",
            "block4f_se_reduce False\n",
            "block4f_se_expand False\n",
            "block4f_se_excite False\n",
            "block4f_project_conv False\n",
            "block4f_project_bn False\n",
            "block4f_drop False\n",
            "block4f_add False\n",
            "block5a_expand_conv False\n",
            "block5a_expand_bn False\n",
            "block5a_expand_activation False\n",
            "block5a_dwconv False\n",
            "block5a_bn False\n",
            "block5a_activation False\n",
            "block5a_se_squeeze False\n",
            "block5a_se_reshape False\n",
            "block5a_se_reduce False\n",
            "block5a_se_expand False\n",
            "block5a_se_excite False\n",
            "block5a_project_conv False\n",
            "block5a_project_bn False\n",
            "block5b_expand_conv False\n",
            "block5b_expand_bn False\n",
            "block5b_expand_activation False\n",
            "block5b_dwconv False\n",
            "block5b_bn False\n",
            "block5b_activation False\n",
            "block5b_se_squeeze False\n",
            "block5b_se_reshape False\n",
            "block5b_se_reduce False\n",
            "block5b_se_expand False\n",
            "block5b_se_excite False\n",
            "block5b_project_conv False\n",
            "block5b_project_bn False\n",
            "block5b_drop False\n",
            "block5b_add False\n",
            "block5c_expand_conv False\n",
            "block5c_expand_bn False\n",
            "block5c_expand_activation False\n",
            "block5c_dwconv False\n",
            "block5c_bn False\n",
            "block5c_activation False\n",
            "block5c_se_squeeze False\n",
            "block5c_se_reshape False\n",
            "block5c_se_reduce False\n",
            "block5c_se_expand False\n",
            "block5c_se_excite False\n",
            "block5c_project_conv False\n",
            "block5c_project_bn False\n",
            "block5c_drop False\n",
            "block5c_add False\n",
            "block5d_expand_conv False\n",
            "block5d_expand_bn False\n",
            "block5d_expand_activation False\n",
            "block5d_dwconv False\n",
            "block5d_bn False\n",
            "block5d_activation False\n",
            "block5d_se_squeeze False\n",
            "block5d_se_reshape False\n",
            "block5d_se_reduce False\n",
            "block5d_se_expand False\n",
            "block5d_se_excite False\n",
            "block5d_project_conv False\n",
            "block5d_project_bn False\n",
            "block5d_drop False\n",
            "block5d_add False\n",
            "block5e_expand_conv False\n",
            "block5e_expand_bn False\n",
            "block5e_expand_activation False\n",
            "block5e_dwconv False\n",
            "block5e_bn False\n",
            "block5e_activation False\n",
            "block5e_se_squeeze False\n",
            "block5e_se_reshape False\n",
            "block5e_se_reduce False\n",
            "block5e_se_expand False\n",
            "block5e_se_excite False\n",
            "block5e_project_conv False\n",
            "block5e_project_bn False\n",
            "block5e_drop False\n",
            "block5e_add False\n",
            "block5f_expand_conv False\n",
            "block5f_expand_bn False\n",
            "block5f_expand_activation False\n",
            "block5f_dwconv False\n",
            "block5f_bn False\n",
            "block5f_activation False\n",
            "block5f_se_squeeze False\n",
            "block5f_se_reshape False\n",
            "block5f_se_reduce False\n",
            "block5f_se_expand False\n",
            "block5f_se_excite False\n",
            "block5f_project_conv False\n",
            "block5f_project_bn False\n",
            "block5f_drop False\n",
            "block5f_add False\n",
            "block6a_expand_conv False\n",
            "block6a_expand_bn False\n",
            "block6a_expand_activation False\n",
            "block6a_dwconv_pad False\n",
            "block6a_dwconv False\n",
            "block6a_bn False\n",
            "block6a_activation False\n",
            "block6a_se_squeeze False\n",
            "block6a_se_reshape False\n",
            "block6a_se_reduce False\n",
            "block6a_se_expand False\n",
            "block6a_se_excite False\n",
            "block6a_project_conv False\n",
            "block6a_project_bn False\n",
            "block6b_expand_conv False\n",
            "block6b_expand_bn False\n",
            "block6b_expand_activation False\n",
            "block6b_dwconv False\n",
            "block6b_bn False\n",
            "block6b_activation False\n",
            "block6b_se_squeeze False\n",
            "block6b_se_reshape False\n",
            "block6b_se_reduce False\n",
            "block6b_se_expand False\n",
            "block6b_se_excite False\n",
            "block6b_project_conv False\n",
            "block6b_project_bn False\n",
            "block6b_drop False\n",
            "block6b_add False\n",
            "block6c_expand_conv False\n",
            "block6c_expand_bn False\n",
            "block6c_expand_activation False\n",
            "block6c_dwconv False\n",
            "block6c_bn False\n",
            "block6c_activation False\n",
            "block6c_se_squeeze False\n",
            "block6c_se_reshape False\n",
            "block6c_se_reduce False\n",
            "block6c_se_expand False\n",
            "block6c_se_excite False\n",
            "block6c_project_conv False\n",
            "block6c_project_bn False\n",
            "block6c_drop False\n",
            "block6c_add False\n",
            "block6d_expand_conv False\n",
            "block6d_expand_bn False\n",
            "block6d_expand_activation False\n",
            "block6d_dwconv False\n",
            "block6d_bn False\n",
            "block6d_activation False\n",
            "block6d_se_squeeze False\n",
            "block6d_se_reshape False\n",
            "block6d_se_reduce False\n",
            "block6d_se_expand False\n",
            "block6d_se_excite False\n",
            "block6d_project_conv False\n",
            "block6d_project_bn False\n",
            "block6d_drop False\n",
            "block6d_add False\n",
            "block6e_expand_conv False\n",
            "block6e_expand_bn False\n",
            "block6e_expand_activation False\n",
            "block6e_dwconv False\n",
            "block6e_bn False\n",
            "block6e_activation False\n",
            "block6e_se_squeeze False\n",
            "block6e_se_reshape False\n",
            "block6e_se_reduce False\n",
            "block6e_se_expand False\n",
            "block6e_se_excite False\n",
            "block6e_project_conv False\n",
            "block6e_project_bn False\n",
            "block6e_drop False\n",
            "block6e_add False\n",
            "block6f_expand_conv False\n",
            "block6f_expand_bn False\n",
            "block6f_expand_activation False\n",
            "block6f_dwconv False\n",
            "block6f_bn False\n",
            "block6f_activation False\n",
            "block6f_se_squeeze False\n",
            "block6f_se_reshape False\n",
            "block6f_se_reduce False\n",
            "block6f_se_expand False\n",
            "block6f_se_excite False\n",
            "block6f_project_conv False\n",
            "block6f_project_bn False\n",
            "block6f_drop False\n",
            "block6f_add False\n",
            "block6g_expand_conv False\n",
            "block6g_expand_bn False\n",
            "block6g_expand_activation False\n",
            "block6g_dwconv False\n",
            "block6g_bn False\n",
            "block6g_activation False\n",
            "block6g_se_squeeze False\n",
            "block6g_se_reshape False\n",
            "block6g_se_reduce False\n",
            "block6g_se_expand False\n",
            "block6g_se_excite False\n",
            "block6g_project_conv False\n",
            "block6g_project_bn False\n",
            "block6g_drop False\n",
            "block6g_add False\n",
            "block6h_expand_conv False\n",
            "block6h_expand_bn False\n",
            "block6h_expand_activation False\n",
            "block6h_dwconv False\n",
            "block6h_bn False\n",
            "block6h_activation False\n",
            "block6h_se_squeeze False\n",
            "block6h_se_reshape False\n",
            "block6h_se_reduce False\n",
            "block6h_se_expand False\n",
            "block6h_se_excite False\n",
            "block6h_project_conv False\n",
            "block6h_project_bn False\n",
            "block6h_drop False\n",
            "block6h_add False\n",
            "block7a_expand_conv False\n",
            "block7a_expand_bn False\n",
            "block7a_expand_activation False\n",
            "block7a_dwconv False\n",
            "block7a_bn False\n",
            "block7a_activation False\n",
            "block7a_se_squeeze False\n",
            "block7a_se_reshape False\n",
            "block7a_se_reduce False\n",
            "block7a_se_expand False\n",
            "block7a_se_excite False\n",
            "block7a_project_conv False\n",
            "block7a_project_bn False\n",
            "block7b_expand_conv False\n",
            "block7b_expand_bn False\n",
            "block7b_expand_activation False\n",
            "block7b_dwconv False\n",
            "block7b_bn False\n",
            "block7b_activation False\n",
            "block7b_se_squeeze False\n",
            "block7b_se_reshape False\n",
            "block7b_se_reduce False\n",
            "block7b_se_expand False\n",
            "block7b_se_excite False\n",
            "block7b_project_conv False\n",
            "block7b_project_bn False\n",
            "block7b_drop False\n",
            "block7b_add False\n",
            "top_conv False\n",
            "top_bn False\n",
            "top_activation False\n"
          ]
        }
      ]
    },
    {
      "cell_type": "code",
      "source": [
        "print(len(model_2.layers[2].layers))"
      ],
      "metadata": {
        "colab": {
          "base_uri": "https://localhost:8080/"
        },
        "id": "440OfmBKtTpq",
        "outputId": "9c7dc6fd-ae16-4098-a4b9-15aa7abf20fd"
      },
      "execution_count": 76,
      "outputs": [
        {
          "output_type": "stream",
          "name": "stdout",
          "text": [
            "474\n"
          ]
        }
      ]
    },
    {
      "cell_type": "markdown",
      "source": [
        "##### There are \"474\" layers up there i am going to nearly select last 10% of layers in order to fine tune them lets round this number down and say 45 layers."
      ],
      "metadata": {
        "id": "VLAybK_3tgrS"
      }
    },
    {
      "cell_type": "code",
      "source": [
        "for layer in model_0.layers[:-45:-1]:\n",
        "  print(i,  \" \" , layer.name)"
      ],
      "metadata": {
        "id": "Ps65Vai9t0mS"
      },
      "execution_count": null,
      "outputs": []
    },
    {
      "cell_type": "code",
      "source": [
        "print(len(model_0.layers[:-45]))"
      ],
      "metadata": {
        "colab": {
          "base_uri": "https://localhost:8080/"
        },
        "id": "dWQdrMoIuImM",
        "outputId": "cb6c3b3e-3826-4034-be86-88f8b671941e"
      },
      "execution_count": 82,
      "outputs": [
        {
          "output_type": "stream",
          "name": "stdout",
          "text": [
            "429\n"
          ]
        }
      ]
    },
    {
      "cell_type": "code",
      "source": [
        "474 - 45"
      ],
      "metadata": {
        "colab": {
          "base_uri": "https://localhost:8080/"
        },
        "id": "DMWOGw59uYYL",
        "outputId": "55169fd2-1ece-4ca6-e81c-60367fdb4175"
      },
      "execution_count": 83,
      "outputs": [
        {
          "output_type": "execute_result",
          "data": {
            "text/plain": [
              "429"
            ]
          },
          "metadata": {},
          "execution_count": 83
        }
      ]
    },
    {
      "cell_type": "markdown",
      "source": [
        "#### So we selected last 45 layers up there lets make them trainable in order to fine tuning"
      ],
      "metadata": {
        "id": "BpE2WZfUuaWo"
      }
    },
    {
      "cell_type": "code",
      "source": [
        "for layer in model_0.layers[:-45:-1]:\n",
        "  layer.trainable = True"
      ],
      "metadata": {
        "id": "koihZZn2uhrV"
      },
      "execution_count": 91,
      "outputs": []
    },
    {
      "cell_type": "code",
      "source": [
        "for i, layer in enumerate(model_0.layers):\n",
        "  print(i, \" \", layer.name, \" \", layer.trainable)"
      ],
      "metadata": {
        "id": "pAmgXvTLvTJC"
      },
      "execution_count": null,
      "outputs": []
    },
    {
      "cell_type": "code",
      "source": [
        "model_2.compile(loss=\"categorical_crossentropy\",\n",
        "                optimizer=tf.keras.optimizers.Adam(learning_rate=0.0001),\n",
        "                metrics=[\"accuracy\"]) # here we should drop learning rate in order to prevent huge overfitting i am going to talk about it in other section\n"
      ],
      "metadata": {
        "id": "JqcmbLddvYkj"
      },
      "execution_count": 97,
      "outputs": []
    },
    {
      "cell_type": "code",
      "source": [
        "for i, layer in enumerate(model_2.layers[2].layers):\n",
        "   print(i, \" \", layer.name, \" \", layer.trainable)"
      ],
      "metadata": {
        "colab": {
          "base_uri": "https://localhost:8080/"
        },
        "id": "iaKF06yZv8ZV",
        "outputId": "8cb588d0-5d3b-4f51-be9b-c8c5e60edadb"
      },
      "execution_count": 103,
      "outputs": [
        {
          "output_type": "stream",
          "name": "stdout",
          "text": [
            "0   input_5   False\n",
            "1   rescaling_3   False\n",
            "2   normalization_2   False\n",
            "3   stem_conv_pad   False\n",
            "4   stem_conv   False\n",
            "5   stem_bn   False\n",
            "6   stem_activation   False\n",
            "7   block1a_dwconv   False\n",
            "8   block1a_bn   False\n",
            "9   block1a_activation   False\n",
            "10   block1a_se_squeeze   False\n",
            "11   block1a_se_reshape   False\n",
            "12   block1a_se_reduce   False\n",
            "13   block1a_se_expand   False\n",
            "14   block1a_se_excite   False\n",
            "15   block1a_project_conv   False\n",
            "16   block1a_project_bn   False\n",
            "17   block1b_dwconv   False\n",
            "18   block1b_bn   False\n",
            "19   block1b_activation   False\n",
            "20   block1b_se_squeeze   False\n",
            "21   block1b_se_reshape   False\n",
            "22   block1b_se_reduce   False\n",
            "23   block1b_se_expand   False\n",
            "24   block1b_se_excite   False\n",
            "25   block1b_project_conv   False\n",
            "26   block1b_project_bn   False\n",
            "27   block1b_drop   False\n",
            "28   block1b_add   False\n",
            "29   block2a_expand_conv   False\n",
            "30   block2a_expand_bn   False\n",
            "31   block2a_expand_activation   False\n",
            "32   block2a_dwconv_pad   False\n",
            "33   block2a_dwconv   False\n",
            "34   block2a_bn   False\n",
            "35   block2a_activation   False\n",
            "36   block2a_se_squeeze   False\n",
            "37   block2a_se_reshape   False\n",
            "38   block2a_se_reduce   False\n",
            "39   block2a_se_expand   False\n",
            "40   block2a_se_excite   False\n",
            "41   block2a_project_conv   False\n",
            "42   block2a_project_bn   False\n",
            "43   block2b_expand_conv   False\n",
            "44   block2b_expand_bn   False\n",
            "45   block2b_expand_activation   False\n",
            "46   block2b_dwconv   False\n",
            "47   block2b_bn   False\n",
            "48   block2b_activation   False\n",
            "49   block2b_se_squeeze   False\n",
            "50   block2b_se_reshape   False\n",
            "51   block2b_se_reduce   False\n",
            "52   block2b_se_expand   False\n",
            "53   block2b_se_excite   False\n",
            "54   block2b_project_conv   False\n",
            "55   block2b_project_bn   False\n",
            "56   block2b_drop   False\n",
            "57   block2b_add   False\n",
            "58   block2c_expand_conv   False\n",
            "59   block2c_expand_bn   False\n",
            "60   block2c_expand_activation   False\n",
            "61   block2c_dwconv   False\n",
            "62   block2c_bn   False\n",
            "63   block2c_activation   False\n",
            "64   block2c_se_squeeze   False\n",
            "65   block2c_se_reshape   False\n",
            "66   block2c_se_reduce   False\n",
            "67   block2c_se_expand   False\n",
            "68   block2c_se_excite   False\n",
            "69   block2c_project_conv   False\n",
            "70   block2c_project_bn   False\n",
            "71   block2c_drop   False\n",
            "72   block2c_add   False\n",
            "73   block2d_expand_conv   False\n",
            "74   block2d_expand_bn   False\n",
            "75   block2d_expand_activation   False\n",
            "76   block2d_dwconv   False\n",
            "77   block2d_bn   False\n",
            "78   block2d_activation   False\n",
            "79   block2d_se_squeeze   False\n",
            "80   block2d_se_reshape   False\n",
            "81   block2d_se_reduce   False\n",
            "82   block2d_se_expand   False\n",
            "83   block2d_se_excite   False\n",
            "84   block2d_project_conv   False\n",
            "85   block2d_project_bn   False\n",
            "86   block2d_drop   False\n",
            "87   block2d_add   False\n",
            "88   block3a_expand_conv   False\n",
            "89   block3a_expand_bn   False\n",
            "90   block3a_expand_activation   False\n",
            "91   block3a_dwconv_pad   False\n",
            "92   block3a_dwconv   False\n",
            "93   block3a_bn   False\n",
            "94   block3a_activation   False\n",
            "95   block3a_se_squeeze   False\n",
            "96   block3a_se_reshape   False\n",
            "97   block3a_se_reduce   False\n",
            "98   block3a_se_expand   False\n",
            "99   block3a_se_excite   False\n",
            "100   block3a_project_conv   False\n",
            "101   block3a_project_bn   False\n",
            "102   block3b_expand_conv   False\n",
            "103   block3b_expand_bn   False\n",
            "104   block3b_expand_activation   False\n",
            "105   block3b_dwconv   False\n",
            "106   block3b_bn   False\n",
            "107   block3b_activation   False\n",
            "108   block3b_se_squeeze   False\n",
            "109   block3b_se_reshape   False\n",
            "110   block3b_se_reduce   False\n",
            "111   block3b_se_expand   False\n",
            "112   block3b_se_excite   False\n",
            "113   block3b_project_conv   False\n",
            "114   block3b_project_bn   False\n",
            "115   block3b_drop   False\n",
            "116   block3b_add   False\n",
            "117   block3c_expand_conv   False\n",
            "118   block3c_expand_bn   False\n",
            "119   block3c_expand_activation   False\n",
            "120   block3c_dwconv   False\n",
            "121   block3c_bn   False\n",
            "122   block3c_activation   False\n",
            "123   block3c_se_squeeze   False\n",
            "124   block3c_se_reshape   False\n",
            "125   block3c_se_reduce   False\n",
            "126   block3c_se_expand   False\n",
            "127   block3c_se_excite   False\n",
            "128   block3c_project_conv   False\n",
            "129   block3c_project_bn   False\n",
            "130   block3c_drop   False\n",
            "131   block3c_add   False\n",
            "132   block3d_expand_conv   False\n",
            "133   block3d_expand_bn   False\n",
            "134   block3d_expand_activation   False\n",
            "135   block3d_dwconv   False\n",
            "136   block3d_bn   False\n",
            "137   block3d_activation   False\n",
            "138   block3d_se_squeeze   False\n",
            "139   block3d_se_reshape   False\n",
            "140   block3d_se_reduce   False\n",
            "141   block3d_se_expand   False\n",
            "142   block3d_se_excite   False\n",
            "143   block3d_project_conv   False\n",
            "144   block3d_project_bn   False\n",
            "145   block3d_drop   False\n",
            "146   block3d_add   False\n",
            "147   block4a_expand_conv   False\n",
            "148   block4a_expand_bn   False\n",
            "149   block4a_expand_activation   False\n",
            "150   block4a_dwconv_pad   False\n",
            "151   block4a_dwconv   False\n",
            "152   block4a_bn   False\n",
            "153   block4a_activation   False\n",
            "154   block4a_se_squeeze   False\n",
            "155   block4a_se_reshape   False\n",
            "156   block4a_se_reduce   False\n",
            "157   block4a_se_expand   False\n",
            "158   block4a_se_excite   False\n",
            "159   block4a_project_conv   False\n",
            "160   block4a_project_bn   False\n",
            "161   block4b_expand_conv   False\n",
            "162   block4b_expand_bn   False\n",
            "163   block4b_expand_activation   False\n",
            "164   block4b_dwconv   False\n",
            "165   block4b_bn   False\n",
            "166   block4b_activation   False\n",
            "167   block4b_se_squeeze   False\n",
            "168   block4b_se_reshape   False\n",
            "169   block4b_se_reduce   False\n",
            "170   block4b_se_expand   False\n",
            "171   block4b_se_excite   False\n",
            "172   block4b_project_conv   False\n",
            "173   block4b_project_bn   False\n",
            "174   block4b_drop   False\n",
            "175   block4b_add   False\n",
            "176   block4c_expand_conv   False\n",
            "177   block4c_expand_bn   False\n",
            "178   block4c_expand_activation   False\n",
            "179   block4c_dwconv   False\n",
            "180   block4c_bn   False\n",
            "181   block4c_activation   False\n",
            "182   block4c_se_squeeze   False\n",
            "183   block4c_se_reshape   False\n",
            "184   block4c_se_reduce   False\n",
            "185   block4c_se_expand   False\n",
            "186   block4c_se_excite   False\n",
            "187   block4c_project_conv   False\n",
            "188   block4c_project_bn   False\n",
            "189   block4c_drop   False\n",
            "190   block4c_add   False\n",
            "191   block4d_expand_conv   False\n",
            "192   block4d_expand_bn   False\n",
            "193   block4d_expand_activation   False\n",
            "194   block4d_dwconv   False\n",
            "195   block4d_bn   False\n",
            "196   block4d_activation   False\n",
            "197   block4d_se_squeeze   False\n",
            "198   block4d_se_reshape   False\n",
            "199   block4d_se_reduce   False\n",
            "200   block4d_se_expand   False\n",
            "201   block4d_se_excite   False\n",
            "202   block4d_project_conv   False\n",
            "203   block4d_project_bn   False\n",
            "204   block4d_drop   False\n",
            "205   block4d_add   False\n",
            "206   block4e_expand_conv   False\n",
            "207   block4e_expand_bn   False\n",
            "208   block4e_expand_activation   False\n",
            "209   block4e_dwconv   False\n",
            "210   block4e_bn   False\n",
            "211   block4e_activation   False\n",
            "212   block4e_se_squeeze   False\n",
            "213   block4e_se_reshape   False\n",
            "214   block4e_se_reduce   False\n",
            "215   block4e_se_expand   False\n",
            "216   block4e_se_excite   False\n",
            "217   block4e_project_conv   False\n",
            "218   block4e_project_bn   False\n",
            "219   block4e_drop   False\n",
            "220   block4e_add   False\n",
            "221   block4f_expand_conv   False\n",
            "222   block4f_expand_bn   False\n",
            "223   block4f_expand_activation   False\n",
            "224   block4f_dwconv   False\n",
            "225   block4f_bn   False\n",
            "226   block4f_activation   False\n",
            "227   block4f_se_squeeze   False\n",
            "228   block4f_se_reshape   False\n",
            "229   block4f_se_reduce   False\n",
            "230   block4f_se_expand   False\n",
            "231   block4f_se_excite   False\n",
            "232   block4f_project_conv   False\n",
            "233   block4f_project_bn   False\n",
            "234   block4f_drop   False\n",
            "235   block4f_add   False\n",
            "236   block5a_expand_conv   False\n",
            "237   block5a_expand_bn   False\n",
            "238   block5a_expand_activation   False\n",
            "239   block5a_dwconv   False\n",
            "240   block5a_bn   False\n",
            "241   block5a_activation   False\n",
            "242   block5a_se_squeeze   False\n",
            "243   block5a_se_reshape   False\n",
            "244   block5a_se_reduce   False\n",
            "245   block5a_se_expand   False\n",
            "246   block5a_se_excite   False\n",
            "247   block5a_project_conv   False\n",
            "248   block5a_project_bn   False\n",
            "249   block5b_expand_conv   False\n",
            "250   block5b_expand_bn   False\n",
            "251   block5b_expand_activation   False\n",
            "252   block5b_dwconv   False\n",
            "253   block5b_bn   False\n",
            "254   block5b_activation   False\n",
            "255   block5b_se_squeeze   False\n",
            "256   block5b_se_reshape   False\n",
            "257   block5b_se_reduce   False\n",
            "258   block5b_se_expand   False\n",
            "259   block5b_se_excite   False\n",
            "260   block5b_project_conv   False\n",
            "261   block5b_project_bn   False\n",
            "262   block5b_drop   False\n",
            "263   block5b_add   False\n",
            "264   block5c_expand_conv   False\n",
            "265   block5c_expand_bn   False\n",
            "266   block5c_expand_activation   False\n",
            "267   block5c_dwconv   False\n",
            "268   block5c_bn   False\n",
            "269   block5c_activation   False\n",
            "270   block5c_se_squeeze   False\n",
            "271   block5c_se_reshape   False\n",
            "272   block5c_se_reduce   False\n",
            "273   block5c_se_expand   False\n",
            "274   block5c_se_excite   False\n",
            "275   block5c_project_conv   False\n",
            "276   block5c_project_bn   False\n",
            "277   block5c_drop   False\n",
            "278   block5c_add   False\n",
            "279   block5d_expand_conv   False\n",
            "280   block5d_expand_bn   False\n",
            "281   block5d_expand_activation   False\n",
            "282   block5d_dwconv   False\n",
            "283   block5d_bn   False\n",
            "284   block5d_activation   False\n",
            "285   block5d_se_squeeze   False\n",
            "286   block5d_se_reshape   False\n",
            "287   block5d_se_reduce   False\n",
            "288   block5d_se_expand   False\n",
            "289   block5d_se_excite   False\n",
            "290   block5d_project_conv   False\n",
            "291   block5d_project_bn   False\n",
            "292   block5d_drop   False\n",
            "293   block5d_add   False\n",
            "294   block5e_expand_conv   False\n",
            "295   block5e_expand_bn   False\n",
            "296   block5e_expand_activation   False\n",
            "297   block5e_dwconv   False\n",
            "298   block5e_bn   False\n",
            "299   block5e_activation   False\n",
            "300   block5e_se_squeeze   False\n",
            "301   block5e_se_reshape   False\n",
            "302   block5e_se_reduce   False\n",
            "303   block5e_se_expand   False\n",
            "304   block5e_se_excite   False\n",
            "305   block5e_project_conv   False\n",
            "306   block5e_project_bn   False\n",
            "307   block5e_drop   False\n",
            "308   block5e_add   False\n",
            "309   block5f_expand_conv   False\n",
            "310   block5f_expand_bn   False\n",
            "311   block5f_expand_activation   False\n",
            "312   block5f_dwconv   False\n",
            "313   block5f_bn   False\n",
            "314   block5f_activation   False\n",
            "315   block5f_se_squeeze   False\n",
            "316   block5f_se_reshape   False\n",
            "317   block5f_se_reduce   False\n",
            "318   block5f_se_expand   False\n",
            "319   block5f_se_excite   False\n",
            "320   block5f_project_conv   False\n",
            "321   block5f_project_bn   False\n",
            "322   block5f_drop   False\n",
            "323   block5f_add   False\n",
            "324   block6a_expand_conv   False\n",
            "325   block6a_expand_bn   False\n",
            "326   block6a_expand_activation   False\n",
            "327   block6a_dwconv_pad   False\n",
            "328   block6a_dwconv   False\n",
            "329   block6a_bn   False\n",
            "330   block6a_activation   False\n",
            "331   block6a_se_squeeze   False\n",
            "332   block6a_se_reshape   False\n",
            "333   block6a_se_reduce   False\n",
            "334   block6a_se_expand   False\n",
            "335   block6a_se_excite   False\n",
            "336   block6a_project_conv   False\n",
            "337   block6a_project_bn   False\n",
            "338   block6b_expand_conv   False\n",
            "339   block6b_expand_bn   False\n",
            "340   block6b_expand_activation   False\n",
            "341   block6b_dwconv   False\n",
            "342   block6b_bn   False\n",
            "343   block6b_activation   False\n",
            "344   block6b_se_squeeze   False\n",
            "345   block6b_se_reshape   False\n",
            "346   block6b_se_reduce   False\n",
            "347   block6b_se_expand   False\n",
            "348   block6b_se_excite   False\n",
            "349   block6b_project_conv   False\n",
            "350   block6b_project_bn   False\n",
            "351   block6b_drop   False\n",
            "352   block6b_add   False\n",
            "353   block6c_expand_conv   False\n",
            "354   block6c_expand_bn   False\n",
            "355   block6c_expand_activation   False\n",
            "356   block6c_dwconv   False\n",
            "357   block6c_bn   False\n",
            "358   block6c_activation   False\n",
            "359   block6c_se_squeeze   False\n",
            "360   block6c_se_reshape   False\n",
            "361   block6c_se_reduce   False\n",
            "362   block6c_se_expand   False\n",
            "363   block6c_se_excite   False\n",
            "364   block6c_project_conv   False\n",
            "365   block6c_project_bn   False\n",
            "366   block6c_drop   False\n",
            "367   block6c_add   False\n",
            "368   block6d_expand_conv   False\n",
            "369   block6d_expand_bn   False\n",
            "370   block6d_expand_activation   False\n",
            "371   block6d_dwconv   False\n",
            "372   block6d_bn   False\n",
            "373   block6d_activation   False\n",
            "374   block6d_se_squeeze   False\n",
            "375   block6d_se_reshape   False\n",
            "376   block6d_se_reduce   False\n",
            "377   block6d_se_expand   False\n",
            "378   block6d_se_excite   False\n",
            "379   block6d_project_conv   False\n",
            "380   block6d_project_bn   False\n",
            "381   block6d_drop   False\n",
            "382   block6d_add   False\n",
            "383   block6e_expand_conv   False\n",
            "384   block6e_expand_bn   False\n",
            "385   block6e_expand_activation   False\n",
            "386   block6e_dwconv   False\n",
            "387   block6e_bn   False\n",
            "388   block6e_activation   False\n",
            "389   block6e_se_squeeze   False\n",
            "390   block6e_se_reshape   False\n",
            "391   block6e_se_reduce   False\n",
            "392   block6e_se_expand   False\n",
            "393   block6e_se_excite   False\n",
            "394   block6e_project_conv   False\n",
            "395   block6e_project_bn   False\n",
            "396   block6e_drop   False\n",
            "397   block6e_add   False\n",
            "398   block6f_expand_conv   False\n",
            "399   block6f_expand_bn   False\n",
            "400   block6f_expand_activation   False\n",
            "401   block6f_dwconv   False\n",
            "402   block6f_bn   False\n",
            "403   block6f_activation   False\n",
            "404   block6f_se_squeeze   False\n",
            "405   block6f_se_reshape   False\n",
            "406   block6f_se_reduce   False\n",
            "407   block6f_se_expand   False\n",
            "408   block6f_se_excite   False\n",
            "409   block6f_project_conv   False\n",
            "410   block6f_project_bn   False\n",
            "411   block6f_drop   False\n",
            "412   block6f_add   False\n",
            "413   block6g_expand_conv   False\n",
            "414   block6g_expand_bn   False\n",
            "415   block6g_expand_activation   False\n",
            "416   block6g_dwconv   False\n",
            "417   block6g_bn   False\n",
            "418   block6g_activation   False\n",
            "419   block6g_se_squeeze   False\n",
            "420   block6g_se_reshape   False\n",
            "421   block6g_se_reduce   False\n",
            "422   block6g_se_expand   False\n",
            "423   block6g_se_excite   False\n",
            "424   block6g_project_conv   False\n",
            "425   block6g_project_bn   False\n",
            "426   block6g_drop   False\n",
            "427   block6g_add   False\n",
            "428   block6h_expand_conv   False\n",
            "429   block6h_expand_bn   False\n",
            "430   block6h_expand_activation   True\n",
            "431   block6h_dwconv   True\n",
            "432   block6h_bn   True\n",
            "433   block6h_activation   True\n",
            "434   block6h_se_squeeze   True\n",
            "435   block6h_se_reshape   True\n",
            "436   block6h_se_reduce   True\n",
            "437   block6h_se_expand   True\n",
            "438   block6h_se_excite   True\n",
            "439   block6h_project_conv   True\n",
            "440   block6h_project_bn   True\n",
            "441   block6h_drop   True\n",
            "442   block6h_add   True\n",
            "443   block7a_expand_conv   True\n",
            "444   block7a_expand_bn   True\n",
            "445   block7a_expand_activation   True\n",
            "446   block7a_dwconv   True\n",
            "447   block7a_bn   True\n",
            "448   block7a_activation   True\n",
            "449   block7a_se_squeeze   True\n",
            "450   block7a_se_reshape   True\n",
            "451   block7a_se_reduce   True\n",
            "452   block7a_se_expand   True\n",
            "453   block7a_se_excite   True\n",
            "454   block7a_project_conv   True\n",
            "455   block7a_project_bn   True\n",
            "456   block7b_expand_conv   True\n",
            "457   block7b_expand_bn   True\n",
            "458   block7b_expand_activation   True\n",
            "459   block7b_dwconv   True\n",
            "460   block7b_bn   True\n",
            "461   block7b_activation   True\n",
            "462   block7b_se_squeeze   True\n",
            "463   block7b_se_reshape   True\n",
            "464   block7b_se_reduce   True\n",
            "465   block7b_se_expand   True\n",
            "466   block7b_se_excite   True\n",
            "467   block7b_project_conv   True\n",
            "468   block7b_project_bn   True\n",
            "469   block7b_drop   True\n",
            "470   block7b_add   True\n",
            "471   top_conv   True\n",
            "472   top_bn   True\n",
            "473   top_activation   True\n"
          ]
        }
      ]
    },
    {
      "cell_type": "code",
      "source": [
        "fine_epochs = 10\n",
        "\n",
        "history_3 = model_2.fit(train_data_10,\n",
        "                        epochs=fine_epochs,\n",
        "                        validation_data=test_data,\n",
        "                        validation_steps=int(0.25*len(test_data)),\n",
        "                        initial_epoch=history_2.epoch[-1])"
      ],
      "metadata": {
        "colab": {
          "base_uri": "https://localhost:8080/"
        },
        "id": "WE23D1quwPBd",
        "outputId": "b3cd2fdf-5c01-4545-8832-4e938f90b1c6"
      },
      "execution_count": 104,
      "outputs": [
        {
          "output_type": "stream",
          "name": "stdout",
          "text": [
            "Epoch 5/10\n",
            "24/24 [==============================] - 33s 827ms/step - loss: 1.3573 - accuracy: 0.6373 - val_loss: 0.7499 - val_accuracy: 0.7977\n",
            "Epoch 6/10\n",
            "24/24 [==============================] - 19s 798ms/step - loss: 1.3467 - accuracy: 0.6307 - val_loss: 0.7798 - val_accuracy: 0.7829\n",
            "Epoch 7/10\n",
            "24/24 [==============================] - 16s 653ms/step - loss: 1.3157 - accuracy: 0.6520 - val_loss: 0.7886 - val_accuracy: 0.7862\n",
            "Epoch 8/10\n",
            "24/24 [==============================] - 18s 743ms/step - loss: 1.3098 - accuracy: 0.6440 - val_loss: 0.8166 - val_accuracy: 0.7796\n",
            "Epoch 9/10\n",
            "24/24 [==============================] - 21s 840ms/step - loss: 1.3084 - accuracy: 0.6320 - val_loss: 0.8230 - val_accuracy: 0.7812\n",
            "Epoch 10/10\n",
            "24/24 [==============================] - 16s 680ms/step - loss: 1.3131 - accuracy: 0.6480 - val_loss: 0.8549 - val_accuracy: 0.7763\n"
          ]
        }
      ]
    },
    {
      "cell_type": "code",
      "source": [
        "model_2.summary()"
      ],
      "metadata": {
        "colab": {
          "base_uri": "https://localhost:8080/"
        },
        "id": "1-XcodlTw9E-",
        "outputId": "42eb0c91-bdfd-4a11-97e1-3bfdafb09e10"
      },
      "execution_count": 105,
      "outputs": [
        {
          "output_type": "stream",
          "name": "stdout",
          "text": [
            "Model: \"model_2\"\n",
            "_________________________________________________________________\n",
            " Layer (type)                Output Shape              Param #   \n",
            "=================================================================\n",
            " input_6 (InputLayer)        [(None, 224, 224, 3)]     0         \n",
            "                                                                 \n",
            " sequential_3 (Sequential)   (None, 224, 224, 3)       0         \n",
            "                                                                 \n",
            " efficientnetb4 (Functional)  (None, None, None, 1792)  17673823 \n",
            "                                                                 \n",
            " global_average_pooling2d_2   (None, 1792)             0         \n",
            " (GlobalAveragePooling2D)                                        \n",
            "                                                                 \n",
            " dense_2 (Dense)             (None, 10)                17930     \n",
            "                                                                 \n",
            "=================================================================\n",
            "Total params: 17,691,753\n",
            "Trainable params: 17,930\n",
            "Non-trainable params: 17,673,823\n",
            "_________________________________________________________________\n"
          ]
        }
      ]
    },
    {
      "cell_type": "markdown",
      "source": [
        "#### So the experiment failed and fine tuning drop the accuracy"
      ],
      "metadata": {
        "id": "1EpAuBPHxm6Q"
      }
    },
    {
      "cell_type": "code",
      "source": [
        "model_2.evaluate(test_data)"
      ],
      "metadata": {
        "colab": {
          "base_uri": "https://localhost:8080/"
        },
        "id": "NWIjz2wVxttS",
        "outputId": "d8d0c33f-3457-4422-a8a3-299c7cf2a72e"
      },
      "execution_count": 107,
      "outputs": [
        {
          "output_type": "stream",
          "name": "stdout",
          "text": [
            "79/79 [==============================] - 14s 169ms/step - loss: 0.8485 - accuracy: 0.7772\n"
          ]
        },
        {
          "output_type": "execute_result",
          "data": {
            "text/plain": [
              "[0.8485168218612671, 0.7771999835968018]"
            ]
          },
          "metadata": {},
          "execution_count": 107
        }
      ]
    },
    {
      "cell_type": "markdown",
      "source": [
        "#### Starting again and dropping number of trainable variables"
      ],
      "metadata": {
        "id": "W3AWrfTRxySr"
      }
    },
    {
      "cell_type": "code",
      "source": [
        "model_2.load_weights(cp_path)"
      ],
      "metadata": {
        "colab": {
          "base_uri": "https://localhost:8080/"
        },
        "id": "be-WWPDnyA3I",
        "outputId": "4324ed5c-fb44-44f2-99a0-6c5b8adfd78d"
      },
      "execution_count": 108,
      "outputs": [
        {
          "output_type": "execute_result",
          "data": {
            "text/plain": [
              "<tensorflow.python.training.tracking.util.CheckpointLoadStatus at 0x7f6bfd369a10>"
            ]
          },
          "metadata": {},
          "execution_count": 108
        }
      ]
    },
    {
      "cell_type": "code",
      "source": [
        "model_2.evaluate(test_data)"
      ],
      "metadata": {
        "colab": {
          "base_uri": "https://localhost:8080/"
        },
        "id": "Wyzj05_dyGrR",
        "outputId": "f59db6d6-276f-4da4-d72f-0c5854a3de95"
      },
      "execution_count": 109,
      "outputs": [
        {
          "output_type": "stream",
          "name": "stdout",
          "text": [
            "79/79 [==============================] - 14s 162ms/step - loss: 0.7215 - accuracy: 0.8020\n"
          ]
        },
        {
          "output_type": "execute_result",
          "data": {
            "text/plain": [
              "[0.7215473651885986, 0.8019999861717224]"
            ]
          },
          "metadata": {},
          "execution_count": 109
        }
      ]
    },
    {
      "cell_type": "code",
      "source": [
        "for layer in model_2.layers[2].layers:\n",
        "  print(layer.name, \" \", layer.trainable)"
      ],
      "metadata": {
        "id": "58kVyhboyN4q"
      },
      "execution_count": null,
      "outputs": []
    },
    {
      "cell_type": "code",
      "source": [
        "for layer in model_0.layers[:-20]:\n",
        "  print(layer.name, \" \", layer.trainable)\n",
        "  layer.trainable = False"
      ],
      "metadata": {
        "colab": {
          "base_uri": "https://localhost:8080/"
        },
        "id": "9y8DnRUpyVrO",
        "outputId": "f51a90f2-6c1e-4801-bfba-75b9d65f4965"
      },
      "execution_count": 115,
      "outputs": [
        {
          "output_type": "stream",
          "name": "stdout",
          "text": [
            "input_5   False\n",
            "rescaling_3   False\n",
            "normalization_2   False\n",
            "stem_conv_pad   False\n",
            "stem_conv   False\n",
            "stem_bn   False\n",
            "stem_activation   False\n",
            "block1a_dwconv   False\n",
            "block1a_bn   False\n",
            "block1a_activation   False\n",
            "block1a_se_squeeze   False\n",
            "block1a_se_reshape   False\n",
            "block1a_se_reduce   False\n",
            "block1a_se_expand   False\n",
            "block1a_se_excite   False\n",
            "block1a_project_conv   False\n",
            "block1a_project_bn   False\n",
            "block1b_dwconv   False\n",
            "block1b_bn   False\n",
            "block1b_activation   False\n",
            "block1b_se_squeeze   False\n",
            "block1b_se_reshape   False\n",
            "block1b_se_reduce   False\n",
            "block1b_se_expand   False\n",
            "block1b_se_excite   False\n",
            "block1b_project_conv   False\n",
            "block1b_project_bn   False\n",
            "block1b_drop   False\n",
            "block1b_add   False\n",
            "block2a_expand_conv   False\n",
            "block2a_expand_bn   False\n",
            "block2a_expand_activation   False\n",
            "block2a_dwconv_pad   False\n",
            "block2a_dwconv   False\n",
            "block2a_bn   False\n",
            "block2a_activation   False\n",
            "block2a_se_squeeze   False\n",
            "block2a_se_reshape   False\n",
            "block2a_se_reduce   False\n",
            "block2a_se_expand   False\n",
            "block2a_se_excite   False\n",
            "block2a_project_conv   False\n",
            "block2a_project_bn   False\n",
            "block2b_expand_conv   False\n",
            "block2b_expand_bn   False\n",
            "block2b_expand_activation   False\n",
            "block2b_dwconv   False\n",
            "block2b_bn   False\n",
            "block2b_activation   False\n",
            "block2b_se_squeeze   False\n",
            "block2b_se_reshape   False\n",
            "block2b_se_reduce   False\n",
            "block2b_se_expand   False\n",
            "block2b_se_excite   False\n",
            "block2b_project_conv   False\n",
            "block2b_project_bn   False\n",
            "block2b_drop   False\n",
            "block2b_add   False\n",
            "block2c_expand_conv   False\n",
            "block2c_expand_bn   False\n",
            "block2c_expand_activation   False\n",
            "block2c_dwconv   False\n",
            "block2c_bn   False\n",
            "block2c_activation   False\n",
            "block2c_se_squeeze   False\n",
            "block2c_se_reshape   False\n",
            "block2c_se_reduce   False\n",
            "block2c_se_expand   False\n",
            "block2c_se_excite   False\n",
            "block2c_project_conv   False\n",
            "block2c_project_bn   False\n",
            "block2c_drop   False\n",
            "block2c_add   False\n",
            "block2d_expand_conv   False\n",
            "block2d_expand_bn   False\n",
            "block2d_expand_activation   False\n",
            "block2d_dwconv   False\n",
            "block2d_bn   False\n",
            "block2d_activation   False\n",
            "block2d_se_squeeze   False\n",
            "block2d_se_reshape   False\n",
            "block2d_se_reduce   False\n",
            "block2d_se_expand   False\n",
            "block2d_se_excite   False\n",
            "block2d_project_conv   False\n",
            "block2d_project_bn   False\n",
            "block2d_drop   False\n",
            "block2d_add   False\n",
            "block3a_expand_conv   False\n",
            "block3a_expand_bn   False\n",
            "block3a_expand_activation   False\n",
            "block3a_dwconv_pad   False\n",
            "block3a_dwconv   False\n",
            "block3a_bn   False\n",
            "block3a_activation   False\n",
            "block3a_se_squeeze   False\n",
            "block3a_se_reshape   False\n",
            "block3a_se_reduce   False\n",
            "block3a_se_expand   False\n",
            "block3a_se_excite   False\n",
            "block3a_project_conv   False\n",
            "block3a_project_bn   False\n",
            "block3b_expand_conv   False\n",
            "block3b_expand_bn   False\n",
            "block3b_expand_activation   False\n",
            "block3b_dwconv   False\n",
            "block3b_bn   False\n",
            "block3b_activation   False\n",
            "block3b_se_squeeze   False\n",
            "block3b_se_reshape   False\n",
            "block3b_se_reduce   False\n",
            "block3b_se_expand   False\n",
            "block3b_se_excite   False\n",
            "block3b_project_conv   False\n",
            "block3b_project_bn   False\n",
            "block3b_drop   False\n",
            "block3b_add   False\n",
            "block3c_expand_conv   False\n",
            "block3c_expand_bn   False\n",
            "block3c_expand_activation   False\n",
            "block3c_dwconv   False\n",
            "block3c_bn   False\n",
            "block3c_activation   False\n",
            "block3c_se_squeeze   False\n",
            "block3c_se_reshape   False\n",
            "block3c_se_reduce   False\n",
            "block3c_se_expand   False\n",
            "block3c_se_excite   False\n",
            "block3c_project_conv   False\n",
            "block3c_project_bn   False\n",
            "block3c_drop   False\n",
            "block3c_add   False\n",
            "block3d_expand_conv   False\n",
            "block3d_expand_bn   False\n",
            "block3d_expand_activation   False\n",
            "block3d_dwconv   False\n",
            "block3d_bn   False\n",
            "block3d_activation   False\n",
            "block3d_se_squeeze   False\n",
            "block3d_se_reshape   False\n",
            "block3d_se_reduce   False\n",
            "block3d_se_expand   False\n",
            "block3d_se_excite   False\n",
            "block3d_project_conv   False\n",
            "block3d_project_bn   False\n",
            "block3d_drop   False\n",
            "block3d_add   False\n",
            "block4a_expand_conv   False\n",
            "block4a_expand_bn   False\n",
            "block4a_expand_activation   False\n",
            "block4a_dwconv_pad   False\n",
            "block4a_dwconv   False\n",
            "block4a_bn   False\n",
            "block4a_activation   False\n",
            "block4a_se_squeeze   False\n",
            "block4a_se_reshape   False\n",
            "block4a_se_reduce   False\n",
            "block4a_se_expand   False\n",
            "block4a_se_excite   False\n",
            "block4a_project_conv   False\n",
            "block4a_project_bn   False\n",
            "block4b_expand_conv   False\n",
            "block4b_expand_bn   False\n",
            "block4b_expand_activation   False\n",
            "block4b_dwconv   False\n",
            "block4b_bn   False\n",
            "block4b_activation   False\n",
            "block4b_se_squeeze   False\n",
            "block4b_se_reshape   False\n",
            "block4b_se_reduce   False\n",
            "block4b_se_expand   False\n",
            "block4b_se_excite   False\n",
            "block4b_project_conv   False\n",
            "block4b_project_bn   False\n",
            "block4b_drop   False\n",
            "block4b_add   False\n",
            "block4c_expand_conv   False\n",
            "block4c_expand_bn   False\n",
            "block4c_expand_activation   False\n",
            "block4c_dwconv   False\n",
            "block4c_bn   False\n",
            "block4c_activation   False\n",
            "block4c_se_squeeze   False\n",
            "block4c_se_reshape   False\n",
            "block4c_se_reduce   False\n",
            "block4c_se_expand   False\n",
            "block4c_se_excite   False\n",
            "block4c_project_conv   False\n",
            "block4c_project_bn   False\n",
            "block4c_drop   False\n",
            "block4c_add   False\n",
            "block4d_expand_conv   False\n",
            "block4d_expand_bn   False\n",
            "block4d_expand_activation   False\n",
            "block4d_dwconv   False\n",
            "block4d_bn   False\n",
            "block4d_activation   False\n",
            "block4d_se_squeeze   False\n",
            "block4d_se_reshape   False\n",
            "block4d_se_reduce   False\n",
            "block4d_se_expand   False\n",
            "block4d_se_excite   False\n",
            "block4d_project_conv   False\n",
            "block4d_project_bn   False\n",
            "block4d_drop   False\n",
            "block4d_add   False\n",
            "block4e_expand_conv   False\n",
            "block4e_expand_bn   False\n",
            "block4e_expand_activation   False\n",
            "block4e_dwconv   False\n",
            "block4e_bn   False\n",
            "block4e_activation   False\n",
            "block4e_se_squeeze   False\n",
            "block4e_se_reshape   False\n",
            "block4e_se_reduce   False\n",
            "block4e_se_expand   False\n",
            "block4e_se_excite   False\n",
            "block4e_project_conv   False\n",
            "block4e_project_bn   False\n",
            "block4e_drop   False\n",
            "block4e_add   False\n",
            "block4f_expand_conv   False\n",
            "block4f_expand_bn   False\n",
            "block4f_expand_activation   False\n",
            "block4f_dwconv   False\n",
            "block4f_bn   False\n",
            "block4f_activation   False\n",
            "block4f_se_squeeze   False\n",
            "block4f_se_reshape   False\n",
            "block4f_se_reduce   False\n",
            "block4f_se_expand   False\n",
            "block4f_se_excite   False\n",
            "block4f_project_conv   False\n",
            "block4f_project_bn   False\n",
            "block4f_drop   False\n",
            "block4f_add   False\n",
            "block5a_expand_conv   False\n",
            "block5a_expand_bn   False\n",
            "block5a_expand_activation   False\n",
            "block5a_dwconv   False\n",
            "block5a_bn   False\n",
            "block5a_activation   False\n",
            "block5a_se_squeeze   False\n",
            "block5a_se_reshape   False\n",
            "block5a_se_reduce   False\n",
            "block5a_se_expand   False\n",
            "block5a_se_excite   False\n",
            "block5a_project_conv   False\n",
            "block5a_project_bn   False\n",
            "block5b_expand_conv   False\n",
            "block5b_expand_bn   False\n",
            "block5b_expand_activation   False\n",
            "block5b_dwconv   False\n",
            "block5b_bn   False\n",
            "block5b_activation   False\n",
            "block5b_se_squeeze   False\n",
            "block5b_se_reshape   False\n",
            "block5b_se_reduce   False\n",
            "block5b_se_expand   False\n",
            "block5b_se_excite   False\n",
            "block5b_project_conv   False\n",
            "block5b_project_bn   False\n",
            "block5b_drop   False\n",
            "block5b_add   False\n",
            "block5c_expand_conv   False\n",
            "block5c_expand_bn   False\n",
            "block5c_expand_activation   False\n",
            "block5c_dwconv   False\n",
            "block5c_bn   False\n",
            "block5c_activation   False\n",
            "block5c_se_squeeze   False\n",
            "block5c_se_reshape   False\n",
            "block5c_se_reduce   False\n",
            "block5c_se_expand   False\n",
            "block5c_se_excite   False\n",
            "block5c_project_conv   False\n",
            "block5c_project_bn   False\n",
            "block5c_drop   False\n",
            "block5c_add   False\n",
            "block5d_expand_conv   False\n",
            "block5d_expand_bn   False\n",
            "block5d_expand_activation   False\n",
            "block5d_dwconv   False\n",
            "block5d_bn   False\n",
            "block5d_activation   False\n",
            "block5d_se_squeeze   False\n",
            "block5d_se_reshape   False\n",
            "block5d_se_reduce   False\n",
            "block5d_se_expand   False\n",
            "block5d_se_excite   False\n",
            "block5d_project_conv   False\n",
            "block5d_project_bn   False\n",
            "block5d_drop   False\n",
            "block5d_add   False\n",
            "block5e_expand_conv   False\n",
            "block5e_expand_bn   False\n",
            "block5e_expand_activation   False\n",
            "block5e_dwconv   False\n",
            "block5e_bn   False\n",
            "block5e_activation   False\n",
            "block5e_se_squeeze   False\n",
            "block5e_se_reshape   False\n",
            "block5e_se_reduce   False\n",
            "block5e_se_expand   False\n",
            "block5e_se_excite   False\n",
            "block5e_project_conv   False\n",
            "block5e_project_bn   False\n",
            "block5e_drop   False\n",
            "block5e_add   False\n",
            "block5f_expand_conv   False\n",
            "block5f_expand_bn   False\n",
            "block5f_expand_activation   False\n",
            "block5f_dwconv   False\n",
            "block5f_bn   False\n",
            "block5f_activation   False\n",
            "block5f_se_squeeze   False\n",
            "block5f_se_reshape   False\n",
            "block5f_se_reduce   False\n",
            "block5f_se_expand   False\n",
            "block5f_se_excite   False\n",
            "block5f_project_conv   False\n",
            "block5f_project_bn   False\n",
            "block5f_drop   False\n",
            "block5f_add   False\n",
            "block6a_expand_conv   False\n",
            "block6a_expand_bn   False\n",
            "block6a_expand_activation   False\n",
            "block6a_dwconv_pad   False\n",
            "block6a_dwconv   False\n",
            "block6a_bn   False\n",
            "block6a_activation   False\n",
            "block6a_se_squeeze   False\n",
            "block6a_se_reshape   False\n",
            "block6a_se_reduce   False\n",
            "block6a_se_expand   False\n",
            "block6a_se_excite   False\n",
            "block6a_project_conv   False\n",
            "block6a_project_bn   False\n",
            "block6b_expand_conv   False\n",
            "block6b_expand_bn   False\n",
            "block6b_expand_activation   False\n",
            "block6b_dwconv   False\n",
            "block6b_bn   False\n",
            "block6b_activation   False\n",
            "block6b_se_squeeze   False\n",
            "block6b_se_reshape   False\n",
            "block6b_se_reduce   False\n",
            "block6b_se_expand   False\n",
            "block6b_se_excite   False\n",
            "block6b_project_conv   False\n",
            "block6b_project_bn   False\n",
            "block6b_drop   False\n",
            "block6b_add   False\n",
            "block6c_expand_conv   False\n",
            "block6c_expand_bn   False\n",
            "block6c_expand_activation   False\n",
            "block6c_dwconv   False\n",
            "block6c_bn   False\n",
            "block6c_activation   False\n",
            "block6c_se_squeeze   False\n",
            "block6c_se_reshape   False\n",
            "block6c_se_reduce   False\n",
            "block6c_se_expand   False\n",
            "block6c_se_excite   False\n",
            "block6c_project_conv   False\n",
            "block6c_project_bn   False\n",
            "block6c_drop   False\n",
            "block6c_add   False\n",
            "block6d_expand_conv   False\n",
            "block6d_expand_bn   False\n",
            "block6d_expand_activation   False\n",
            "block6d_dwconv   False\n",
            "block6d_bn   False\n",
            "block6d_activation   False\n",
            "block6d_se_squeeze   False\n",
            "block6d_se_reshape   False\n",
            "block6d_se_reduce   False\n",
            "block6d_se_expand   False\n",
            "block6d_se_excite   False\n",
            "block6d_project_conv   False\n",
            "block6d_project_bn   False\n",
            "block6d_drop   False\n",
            "block6d_add   False\n",
            "block6e_expand_conv   False\n",
            "block6e_expand_bn   False\n",
            "block6e_expand_activation   False\n",
            "block6e_dwconv   False\n",
            "block6e_bn   False\n",
            "block6e_activation   False\n",
            "block6e_se_squeeze   False\n",
            "block6e_se_reshape   False\n",
            "block6e_se_reduce   False\n",
            "block6e_se_expand   False\n",
            "block6e_se_excite   False\n",
            "block6e_project_conv   False\n",
            "block6e_project_bn   False\n",
            "block6e_drop   False\n",
            "block6e_add   False\n",
            "block6f_expand_conv   False\n",
            "block6f_expand_bn   False\n",
            "block6f_expand_activation   False\n",
            "block6f_dwconv   False\n",
            "block6f_bn   False\n",
            "block6f_activation   False\n",
            "block6f_se_squeeze   False\n",
            "block6f_se_reshape   False\n",
            "block6f_se_reduce   False\n",
            "block6f_se_expand   False\n",
            "block6f_se_excite   False\n",
            "block6f_project_conv   False\n",
            "block6f_project_bn   False\n",
            "block6f_drop   False\n",
            "block6f_add   False\n",
            "block6g_expand_conv   False\n",
            "block6g_expand_bn   False\n",
            "block6g_expand_activation   False\n",
            "block6g_dwconv   False\n",
            "block6g_bn   False\n",
            "block6g_activation   False\n",
            "block6g_se_squeeze   False\n",
            "block6g_se_reshape   False\n",
            "block6g_se_reduce   False\n",
            "block6g_se_expand   False\n",
            "block6g_se_excite   False\n",
            "block6g_project_conv   False\n",
            "block6g_project_bn   False\n",
            "block6g_drop   False\n",
            "block6g_add   False\n",
            "block6h_expand_conv   False\n",
            "block6h_expand_bn   False\n",
            "block6h_expand_activation   False\n",
            "block6h_dwconv   False\n",
            "block6h_bn   False\n",
            "block6h_activation   False\n",
            "block6h_se_squeeze   False\n",
            "block6h_se_reshape   False\n",
            "block6h_se_reduce   False\n",
            "block6h_se_expand   False\n",
            "block6h_se_excite   False\n",
            "block6h_project_conv   False\n",
            "block6h_project_bn   False\n",
            "block6h_drop   False\n",
            "block6h_add   False\n",
            "block7a_expand_conv   False\n",
            "block7a_expand_bn   False\n",
            "block7a_expand_activation   False\n",
            "block7a_dwconv   False\n",
            "block7a_bn   False\n",
            "block7a_activation   False\n",
            "block7a_se_squeeze   False\n",
            "block7a_se_reshape   False\n",
            "block7a_se_reduce   False\n",
            "block7a_se_expand   False\n",
            "block7a_se_excite   False\n"
          ]
        }
      ]
    },
    {
      "cell_type": "code",
      "source": [
        "model_2.compile(loss=\"categorical_crossentropy\",\n",
        "                optimizer=tf.keras.optimizers.Adam(),\n",
        "                metrics=[\"accuracy\"])"
      ],
      "metadata": {
        "id": "yTnWBZRwyiO3"
      },
      "execution_count": 116,
      "outputs": []
    },
    {
      "cell_type": "code",
      "source": [
        "for i, layer in enumerate(model_2.layers[2].layers):\n",
        "  print(i ,\" \" ,layer.name, \" \", layer.trainable)"
      ],
      "metadata": {
        "colab": {
          "base_uri": "https://localhost:8080/"
        },
        "id": "QBhto4JEy3Zi",
        "outputId": "dbda3d35-2118-49c6-e6aa-526aecdf1100"
      },
      "execution_count": 118,
      "outputs": [
        {
          "output_type": "stream",
          "name": "stdout",
          "text": [
            "0   input_5   False\n",
            "1   rescaling_3   False\n",
            "2   normalization_2   False\n",
            "3   stem_conv_pad   False\n",
            "4   stem_conv   False\n",
            "5   stem_bn   False\n",
            "6   stem_activation   False\n",
            "7   block1a_dwconv   False\n",
            "8   block1a_bn   False\n",
            "9   block1a_activation   False\n",
            "10   block1a_se_squeeze   False\n",
            "11   block1a_se_reshape   False\n",
            "12   block1a_se_reduce   False\n",
            "13   block1a_se_expand   False\n",
            "14   block1a_se_excite   False\n",
            "15   block1a_project_conv   False\n",
            "16   block1a_project_bn   False\n",
            "17   block1b_dwconv   False\n",
            "18   block1b_bn   False\n",
            "19   block1b_activation   False\n",
            "20   block1b_se_squeeze   False\n",
            "21   block1b_se_reshape   False\n",
            "22   block1b_se_reduce   False\n",
            "23   block1b_se_expand   False\n",
            "24   block1b_se_excite   False\n",
            "25   block1b_project_conv   False\n",
            "26   block1b_project_bn   False\n",
            "27   block1b_drop   False\n",
            "28   block1b_add   False\n",
            "29   block2a_expand_conv   False\n",
            "30   block2a_expand_bn   False\n",
            "31   block2a_expand_activation   False\n",
            "32   block2a_dwconv_pad   False\n",
            "33   block2a_dwconv   False\n",
            "34   block2a_bn   False\n",
            "35   block2a_activation   False\n",
            "36   block2a_se_squeeze   False\n",
            "37   block2a_se_reshape   False\n",
            "38   block2a_se_reduce   False\n",
            "39   block2a_se_expand   False\n",
            "40   block2a_se_excite   False\n",
            "41   block2a_project_conv   False\n",
            "42   block2a_project_bn   False\n",
            "43   block2b_expand_conv   False\n",
            "44   block2b_expand_bn   False\n",
            "45   block2b_expand_activation   False\n",
            "46   block2b_dwconv   False\n",
            "47   block2b_bn   False\n",
            "48   block2b_activation   False\n",
            "49   block2b_se_squeeze   False\n",
            "50   block2b_se_reshape   False\n",
            "51   block2b_se_reduce   False\n",
            "52   block2b_se_expand   False\n",
            "53   block2b_se_excite   False\n",
            "54   block2b_project_conv   False\n",
            "55   block2b_project_bn   False\n",
            "56   block2b_drop   False\n",
            "57   block2b_add   False\n",
            "58   block2c_expand_conv   False\n",
            "59   block2c_expand_bn   False\n",
            "60   block2c_expand_activation   False\n",
            "61   block2c_dwconv   False\n",
            "62   block2c_bn   False\n",
            "63   block2c_activation   False\n",
            "64   block2c_se_squeeze   False\n",
            "65   block2c_se_reshape   False\n",
            "66   block2c_se_reduce   False\n",
            "67   block2c_se_expand   False\n",
            "68   block2c_se_excite   False\n",
            "69   block2c_project_conv   False\n",
            "70   block2c_project_bn   False\n",
            "71   block2c_drop   False\n",
            "72   block2c_add   False\n",
            "73   block2d_expand_conv   False\n",
            "74   block2d_expand_bn   False\n",
            "75   block2d_expand_activation   False\n",
            "76   block2d_dwconv   False\n",
            "77   block2d_bn   False\n",
            "78   block2d_activation   False\n",
            "79   block2d_se_squeeze   False\n",
            "80   block2d_se_reshape   False\n",
            "81   block2d_se_reduce   False\n",
            "82   block2d_se_expand   False\n",
            "83   block2d_se_excite   False\n",
            "84   block2d_project_conv   False\n",
            "85   block2d_project_bn   False\n",
            "86   block2d_drop   False\n",
            "87   block2d_add   False\n",
            "88   block3a_expand_conv   False\n",
            "89   block3a_expand_bn   False\n",
            "90   block3a_expand_activation   False\n",
            "91   block3a_dwconv_pad   False\n",
            "92   block3a_dwconv   False\n",
            "93   block3a_bn   False\n",
            "94   block3a_activation   False\n",
            "95   block3a_se_squeeze   False\n",
            "96   block3a_se_reshape   False\n",
            "97   block3a_se_reduce   False\n",
            "98   block3a_se_expand   False\n",
            "99   block3a_se_excite   False\n",
            "100   block3a_project_conv   False\n",
            "101   block3a_project_bn   False\n",
            "102   block3b_expand_conv   False\n",
            "103   block3b_expand_bn   False\n",
            "104   block3b_expand_activation   False\n",
            "105   block3b_dwconv   False\n",
            "106   block3b_bn   False\n",
            "107   block3b_activation   False\n",
            "108   block3b_se_squeeze   False\n",
            "109   block3b_se_reshape   False\n",
            "110   block3b_se_reduce   False\n",
            "111   block3b_se_expand   False\n",
            "112   block3b_se_excite   False\n",
            "113   block3b_project_conv   False\n",
            "114   block3b_project_bn   False\n",
            "115   block3b_drop   False\n",
            "116   block3b_add   False\n",
            "117   block3c_expand_conv   False\n",
            "118   block3c_expand_bn   False\n",
            "119   block3c_expand_activation   False\n",
            "120   block3c_dwconv   False\n",
            "121   block3c_bn   False\n",
            "122   block3c_activation   False\n",
            "123   block3c_se_squeeze   False\n",
            "124   block3c_se_reshape   False\n",
            "125   block3c_se_reduce   False\n",
            "126   block3c_se_expand   False\n",
            "127   block3c_se_excite   False\n",
            "128   block3c_project_conv   False\n",
            "129   block3c_project_bn   False\n",
            "130   block3c_drop   False\n",
            "131   block3c_add   False\n",
            "132   block3d_expand_conv   False\n",
            "133   block3d_expand_bn   False\n",
            "134   block3d_expand_activation   False\n",
            "135   block3d_dwconv   False\n",
            "136   block3d_bn   False\n",
            "137   block3d_activation   False\n",
            "138   block3d_se_squeeze   False\n",
            "139   block3d_se_reshape   False\n",
            "140   block3d_se_reduce   False\n",
            "141   block3d_se_expand   False\n",
            "142   block3d_se_excite   False\n",
            "143   block3d_project_conv   False\n",
            "144   block3d_project_bn   False\n",
            "145   block3d_drop   False\n",
            "146   block3d_add   False\n",
            "147   block4a_expand_conv   False\n",
            "148   block4a_expand_bn   False\n",
            "149   block4a_expand_activation   False\n",
            "150   block4a_dwconv_pad   False\n",
            "151   block4a_dwconv   False\n",
            "152   block4a_bn   False\n",
            "153   block4a_activation   False\n",
            "154   block4a_se_squeeze   False\n",
            "155   block4a_se_reshape   False\n",
            "156   block4a_se_reduce   False\n",
            "157   block4a_se_expand   False\n",
            "158   block4a_se_excite   False\n",
            "159   block4a_project_conv   False\n",
            "160   block4a_project_bn   False\n",
            "161   block4b_expand_conv   False\n",
            "162   block4b_expand_bn   False\n",
            "163   block4b_expand_activation   False\n",
            "164   block4b_dwconv   False\n",
            "165   block4b_bn   False\n",
            "166   block4b_activation   False\n",
            "167   block4b_se_squeeze   False\n",
            "168   block4b_se_reshape   False\n",
            "169   block4b_se_reduce   False\n",
            "170   block4b_se_expand   False\n",
            "171   block4b_se_excite   False\n",
            "172   block4b_project_conv   False\n",
            "173   block4b_project_bn   False\n",
            "174   block4b_drop   False\n",
            "175   block4b_add   False\n",
            "176   block4c_expand_conv   False\n",
            "177   block4c_expand_bn   False\n",
            "178   block4c_expand_activation   False\n",
            "179   block4c_dwconv   False\n",
            "180   block4c_bn   False\n",
            "181   block4c_activation   False\n",
            "182   block4c_se_squeeze   False\n",
            "183   block4c_se_reshape   False\n",
            "184   block4c_se_reduce   False\n",
            "185   block4c_se_expand   False\n",
            "186   block4c_se_excite   False\n",
            "187   block4c_project_conv   False\n",
            "188   block4c_project_bn   False\n",
            "189   block4c_drop   False\n",
            "190   block4c_add   False\n",
            "191   block4d_expand_conv   False\n",
            "192   block4d_expand_bn   False\n",
            "193   block4d_expand_activation   False\n",
            "194   block4d_dwconv   False\n",
            "195   block4d_bn   False\n",
            "196   block4d_activation   False\n",
            "197   block4d_se_squeeze   False\n",
            "198   block4d_se_reshape   False\n",
            "199   block4d_se_reduce   False\n",
            "200   block4d_se_expand   False\n",
            "201   block4d_se_excite   False\n",
            "202   block4d_project_conv   False\n",
            "203   block4d_project_bn   False\n",
            "204   block4d_drop   False\n",
            "205   block4d_add   False\n",
            "206   block4e_expand_conv   False\n",
            "207   block4e_expand_bn   False\n",
            "208   block4e_expand_activation   False\n",
            "209   block4e_dwconv   False\n",
            "210   block4e_bn   False\n",
            "211   block4e_activation   False\n",
            "212   block4e_se_squeeze   False\n",
            "213   block4e_se_reshape   False\n",
            "214   block4e_se_reduce   False\n",
            "215   block4e_se_expand   False\n",
            "216   block4e_se_excite   False\n",
            "217   block4e_project_conv   False\n",
            "218   block4e_project_bn   False\n",
            "219   block4e_drop   False\n",
            "220   block4e_add   False\n",
            "221   block4f_expand_conv   False\n",
            "222   block4f_expand_bn   False\n",
            "223   block4f_expand_activation   False\n",
            "224   block4f_dwconv   False\n",
            "225   block4f_bn   False\n",
            "226   block4f_activation   False\n",
            "227   block4f_se_squeeze   False\n",
            "228   block4f_se_reshape   False\n",
            "229   block4f_se_reduce   False\n",
            "230   block4f_se_expand   False\n",
            "231   block4f_se_excite   False\n",
            "232   block4f_project_conv   False\n",
            "233   block4f_project_bn   False\n",
            "234   block4f_drop   False\n",
            "235   block4f_add   False\n",
            "236   block5a_expand_conv   False\n",
            "237   block5a_expand_bn   False\n",
            "238   block5a_expand_activation   False\n",
            "239   block5a_dwconv   False\n",
            "240   block5a_bn   False\n",
            "241   block5a_activation   False\n",
            "242   block5a_se_squeeze   False\n",
            "243   block5a_se_reshape   False\n",
            "244   block5a_se_reduce   False\n",
            "245   block5a_se_expand   False\n",
            "246   block5a_se_excite   False\n",
            "247   block5a_project_conv   False\n",
            "248   block5a_project_bn   False\n",
            "249   block5b_expand_conv   False\n",
            "250   block5b_expand_bn   False\n",
            "251   block5b_expand_activation   False\n",
            "252   block5b_dwconv   False\n",
            "253   block5b_bn   False\n",
            "254   block5b_activation   False\n",
            "255   block5b_se_squeeze   False\n",
            "256   block5b_se_reshape   False\n",
            "257   block5b_se_reduce   False\n",
            "258   block5b_se_expand   False\n",
            "259   block5b_se_excite   False\n",
            "260   block5b_project_conv   False\n",
            "261   block5b_project_bn   False\n",
            "262   block5b_drop   False\n",
            "263   block5b_add   False\n",
            "264   block5c_expand_conv   False\n",
            "265   block5c_expand_bn   False\n",
            "266   block5c_expand_activation   False\n",
            "267   block5c_dwconv   False\n",
            "268   block5c_bn   False\n",
            "269   block5c_activation   False\n",
            "270   block5c_se_squeeze   False\n",
            "271   block5c_se_reshape   False\n",
            "272   block5c_se_reduce   False\n",
            "273   block5c_se_expand   False\n",
            "274   block5c_se_excite   False\n",
            "275   block5c_project_conv   False\n",
            "276   block5c_project_bn   False\n",
            "277   block5c_drop   False\n",
            "278   block5c_add   False\n",
            "279   block5d_expand_conv   False\n",
            "280   block5d_expand_bn   False\n",
            "281   block5d_expand_activation   False\n",
            "282   block5d_dwconv   False\n",
            "283   block5d_bn   False\n",
            "284   block5d_activation   False\n",
            "285   block5d_se_squeeze   False\n",
            "286   block5d_se_reshape   False\n",
            "287   block5d_se_reduce   False\n",
            "288   block5d_se_expand   False\n",
            "289   block5d_se_excite   False\n",
            "290   block5d_project_conv   False\n",
            "291   block5d_project_bn   False\n",
            "292   block5d_drop   False\n",
            "293   block5d_add   False\n",
            "294   block5e_expand_conv   False\n",
            "295   block5e_expand_bn   False\n",
            "296   block5e_expand_activation   False\n",
            "297   block5e_dwconv   False\n",
            "298   block5e_bn   False\n",
            "299   block5e_activation   False\n",
            "300   block5e_se_squeeze   False\n",
            "301   block5e_se_reshape   False\n",
            "302   block5e_se_reduce   False\n",
            "303   block5e_se_expand   False\n",
            "304   block5e_se_excite   False\n",
            "305   block5e_project_conv   False\n",
            "306   block5e_project_bn   False\n",
            "307   block5e_drop   False\n",
            "308   block5e_add   False\n",
            "309   block5f_expand_conv   False\n",
            "310   block5f_expand_bn   False\n",
            "311   block5f_expand_activation   False\n",
            "312   block5f_dwconv   False\n",
            "313   block5f_bn   False\n",
            "314   block5f_activation   False\n",
            "315   block5f_se_squeeze   False\n",
            "316   block5f_se_reshape   False\n",
            "317   block5f_se_reduce   False\n",
            "318   block5f_se_expand   False\n",
            "319   block5f_se_excite   False\n",
            "320   block5f_project_conv   False\n",
            "321   block5f_project_bn   False\n",
            "322   block5f_drop   False\n",
            "323   block5f_add   False\n",
            "324   block6a_expand_conv   False\n",
            "325   block6a_expand_bn   False\n",
            "326   block6a_expand_activation   False\n",
            "327   block6a_dwconv_pad   False\n",
            "328   block6a_dwconv   False\n",
            "329   block6a_bn   False\n",
            "330   block6a_activation   False\n",
            "331   block6a_se_squeeze   False\n",
            "332   block6a_se_reshape   False\n",
            "333   block6a_se_reduce   False\n",
            "334   block6a_se_expand   False\n",
            "335   block6a_se_excite   False\n",
            "336   block6a_project_conv   False\n",
            "337   block6a_project_bn   False\n",
            "338   block6b_expand_conv   False\n",
            "339   block6b_expand_bn   False\n",
            "340   block6b_expand_activation   False\n",
            "341   block6b_dwconv   False\n",
            "342   block6b_bn   False\n",
            "343   block6b_activation   False\n",
            "344   block6b_se_squeeze   False\n",
            "345   block6b_se_reshape   False\n",
            "346   block6b_se_reduce   False\n",
            "347   block6b_se_expand   False\n",
            "348   block6b_se_excite   False\n",
            "349   block6b_project_conv   False\n",
            "350   block6b_project_bn   False\n",
            "351   block6b_drop   False\n",
            "352   block6b_add   False\n",
            "353   block6c_expand_conv   False\n",
            "354   block6c_expand_bn   False\n",
            "355   block6c_expand_activation   False\n",
            "356   block6c_dwconv   False\n",
            "357   block6c_bn   False\n",
            "358   block6c_activation   False\n",
            "359   block6c_se_squeeze   False\n",
            "360   block6c_se_reshape   False\n",
            "361   block6c_se_reduce   False\n",
            "362   block6c_se_expand   False\n",
            "363   block6c_se_excite   False\n",
            "364   block6c_project_conv   False\n",
            "365   block6c_project_bn   False\n",
            "366   block6c_drop   False\n",
            "367   block6c_add   False\n",
            "368   block6d_expand_conv   False\n",
            "369   block6d_expand_bn   False\n",
            "370   block6d_expand_activation   False\n",
            "371   block6d_dwconv   False\n",
            "372   block6d_bn   False\n",
            "373   block6d_activation   False\n",
            "374   block6d_se_squeeze   False\n",
            "375   block6d_se_reshape   False\n",
            "376   block6d_se_reduce   False\n",
            "377   block6d_se_expand   False\n",
            "378   block6d_se_excite   False\n",
            "379   block6d_project_conv   False\n",
            "380   block6d_project_bn   False\n",
            "381   block6d_drop   False\n",
            "382   block6d_add   False\n",
            "383   block6e_expand_conv   False\n",
            "384   block6e_expand_bn   False\n",
            "385   block6e_expand_activation   False\n",
            "386   block6e_dwconv   False\n",
            "387   block6e_bn   False\n",
            "388   block6e_activation   False\n",
            "389   block6e_se_squeeze   False\n",
            "390   block6e_se_reshape   False\n",
            "391   block6e_se_reduce   False\n",
            "392   block6e_se_expand   False\n",
            "393   block6e_se_excite   False\n",
            "394   block6e_project_conv   False\n",
            "395   block6e_project_bn   False\n",
            "396   block6e_drop   False\n",
            "397   block6e_add   False\n",
            "398   block6f_expand_conv   False\n",
            "399   block6f_expand_bn   False\n",
            "400   block6f_expand_activation   False\n",
            "401   block6f_dwconv   False\n",
            "402   block6f_bn   False\n",
            "403   block6f_activation   False\n",
            "404   block6f_se_squeeze   False\n",
            "405   block6f_se_reshape   False\n",
            "406   block6f_se_reduce   False\n",
            "407   block6f_se_expand   False\n",
            "408   block6f_se_excite   False\n",
            "409   block6f_project_conv   False\n",
            "410   block6f_project_bn   False\n",
            "411   block6f_drop   False\n",
            "412   block6f_add   False\n",
            "413   block6g_expand_conv   False\n",
            "414   block6g_expand_bn   False\n",
            "415   block6g_expand_activation   False\n",
            "416   block6g_dwconv   False\n",
            "417   block6g_bn   False\n",
            "418   block6g_activation   False\n",
            "419   block6g_se_squeeze   False\n",
            "420   block6g_se_reshape   False\n",
            "421   block6g_se_reduce   False\n",
            "422   block6g_se_expand   False\n",
            "423   block6g_se_excite   False\n",
            "424   block6g_project_conv   False\n",
            "425   block6g_project_bn   False\n",
            "426   block6g_drop   False\n",
            "427   block6g_add   False\n",
            "428   block6h_expand_conv   False\n",
            "429   block6h_expand_bn   False\n",
            "430   block6h_expand_activation   False\n",
            "431   block6h_dwconv   False\n",
            "432   block6h_bn   False\n",
            "433   block6h_activation   False\n",
            "434   block6h_se_squeeze   False\n",
            "435   block6h_se_reshape   False\n",
            "436   block6h_se_reduce   False\n",
            "437   block6h_se_expand   False\n",
            "438   block6h_se_excite   False\n",
            "439   block6h_project_conv   False\n",
            "440   block6h_project_bn   False\n",
            "441   block6h_drop   False\n",
            "442   block6h_add   False\n",
            "443   block7a_expand_conv   False\n",
            "444   block7a_expand_bn   False\n",
            "445   block7a_expand_activation   False\n",
            "446   block7a_dwconv   False\n",
            "447   block7a_bn   False\n",
            "448   block7a_activation   False\n",
            "449   block7a_se_squeeze   False\n",
            "450   block7a_se_reshape   False\n",
            "451   block7a_se_reduce   False\n",
            "452   block7a_se_expand   False\n",
            "453   block7a_se_excite   False\n",
            "454   block7a_project_conv   True\n",
            "455   block7a_project_bn   True\n",
            "456   block7b_expand_conv   True\n",
            "457   block7b_expand_bn   True\n",
            "458   block7b_expand_activation   True\n",
            "459   block7b_dwconv   True\n",
            "460   block7b_bn   True\n",
            "461   block7b_activation   True\n",
            "462   block7b_se_squeeze   True\n",
            "463   block7b_se_reshape   True\n",
            "464   block7b_se_reduce   True\n",
            "465   block7b_se_expand   True\n",
            "466   block7b_se_excite   True\n",
            "467   block7b_project_conv   True\n",
            "468   block7b_project_bn   True\n",
            "469   block7b_drop   True\n",
            "470   block7b_add   True\n",
            "471   top_conv   True\n",
            "472   top_bn   True\n",
            "473   top_activation   True\n"
          ]
        }
      ]
    },
    {
      "cell_type": "code",
      "source": [
        "len(model_2.trainable_variables)"
      ],
      "metadata": {
        "colab": {
          "base_uri": "https://localhost:8080/"
        },
        "id": "zH6IJ4bBy4x7",
        "outputId": "d20c9821-53be-4670-d397-2e99f4009ed2"
      },
      "execution_count": 120,
      "outputs": [
        {
          "output_type": "execute_result",
          "data": {
            "text/plain": [
              "2"
            ]
          },
          "metadata": {},
          "execution_count": 120
        }
      ]
    },
    {
      "cell_type": "code",
      "source": [
        "history_3_second_try = model_2.fit(train_data_10,\n",
        "                               validation_data=test_data,\n",
        "                               steps_per_epoch=len(train_data_10),\n",
        "                               epochs=fine_epochs,\n",
        "                               validation_steps=int(0.25*len(test_data)),\n",
        "                               initial_epoch=history_2.epoch[-1])"
      ],
      "metadata": {
        "colab": {
          "base_uri": "https://localhost:8080/"
        },
        "id": "6wkkhokkzDS1",
        "outputId": "43397864-8a07-4753-c42b-409c04298de9"
      },
      "execution_count": 121,
      "outputs": [
        {
          "output_type": "stream",
          "name": "stdout",
          "text": [
            "Epoch 5/10\n",
            "24/24 [==============================] - 30s 764ms/step - loss: 0.9706 - accuracy: 0.7107 - val_loss: 0.6867 - val_accuracy: 0.7977\n",
            "Epoch 6/10\n",
            "24/24 [==============================] - 16s 651ms/step - loss: 0.8892 - accuracy: 0.7413 - val_loss: 0.6633 - val_accuracy: 0.8026\n",
            "Epoch 7/10\n",
            "24/24 [==============================] - 19s 773ms/step - loss: 0.7896 - accuracy: 0.7693 - val_loss: 0.6219 - val_accuracy: 0.8174\n",
            "Epoch 8/10\n",
            "24/24 [==============================] - 17s 692ms/step - loss: 0.7957 - accuracy: 0.7653 - val_loss: 0.6231 - val_accuracy: 0.7993\n",
            "Epoch 9/10\n",
            "24/24 [==============================] - 18s 719ms/step - loss: 0.7301 - accuracy: 0.8000 - val_loss: 0.5832 - val_accuracy: 0.8092\n",
            "Epoch 10/10\n",
            "24/24 [==============================] - 18s 757ms/step - loss: 0.7303 - accuracy: 0.7747 - val_loss: 0.5955 - val_accuracy: 0.8059\n"
          ]
        }
      ]
    },
    {
      "cell_type": "markdown",
      "source": [
        "#### Decreasing trainable variables worked but still don't do well as we expected. So the other trying might be giving all data but we'll see."
      ],
      "metadata": {
        "id": "FPf6tCnEzZuH"
      }
    },
    {
      "cell_type": "code",
      "source": [],
      "metadata": {
        "id": "jzNRPsaT0OdH"
      },
      "execution_count": null,
      "outputs": []
    }
  ]
}